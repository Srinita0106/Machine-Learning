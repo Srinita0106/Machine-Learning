{
  "cells": [
    {
      "cell_type": "code",
      "execution_count": null,
      "id": "cc4badc8",
      "metadata": {
        "id": "cc4badc8"
      },
      "outputs": [],
      "source": [
        "import pandas as pd\n",
        "import numpy as np\n",
        "import matplotlib.pyplot as plt\n",
        "from scipy import stats"
      ]
    },
    {
      "cell_type": "code",
      "execution_count": null,
      "id": "021d85d2",
      "metadata": {
        "id": "021d85d2"
      },
      "outputs": [],
      "source": [
        "data=pd.read_csv(\"C:/Users/CTS/Documents/Dataset/incomestmt.csv\")"
      ]
    },
    {
      "cell_type": "code",
      "execution_count": null,
      "id": "56dcfd64",
      "metadata": {
        "id": "56dcfd64",
        "outputId": "e2306e34-4ff5-4a83-95a7-fed9c3937448"
      },
      "outputs": [
        {
          "data": {
            "text/html": [
              "<div>\n",
              "<style scoped>\n",
              "    .dataframe tbody tr th:only-of-type {\n",
              "        vertical-align: middle;\n",
              "    }\n",
              "\n",
              "    .dataframe tbody tr th {\n",
              "        vertical-align: top;\n",
              "    }\n",
              "\n",
              "    .dataframe thead th {\n",
              "        text-align: right;\n",
              "    }\n",
              "</style>\n",
              "<table border=\"1\" class=\"dataframe\">\n",
              "  <thead>\n",
              "    <tr style=\"text-align: right;\">\n",
              "      <th></th>\n",
              "      <th>stock</th>\n",
              "      <th>endDate</th>\n",
              "      <th>netIncomeApplicableToCommonShares</th>\n",
              "      <th>netIncomeFromContinuingOps</th>\n",
              "      <th>totalOtherIncomeExpenseNet</th>\n",
              "      <th>costOfRevenue</th>\n",
              "      <th>totalOperatingExpenses</th>\n",
              "      <th>totalRevenue</th>\n",
              "      <th>incomeTaxExpense</th>\n",
              "      <th>interestExpense</th>\n",
              "      <th>operatingIncome</th>\n",
              "      <th>ebit</th>\n",
              "      <th>grossProfit</th>\n",
              "      <th>sellingGeneralAdministrative</th>\n",
              "      <th>netIncome</th>\n",
              "      <th>incomeBeforeTax</th>\n",
              "      <th>researchDevelopment</th>\n",
              "      <th>otherOperatingExpenses</th>\n",
              "      <th>minorityInterest</th>\n",
              "      <th>discontinuedOperations</th>\n",
              "    </tr>\n",
              "  </thead>\n",
              "  <tbody>\n",
              "    <tr>\n",
              "      <th>0</th>\n",
              "      <td>IVC</td>\n",
              "      <td>12/31/2019</td>\n",
              "      <td>-53327000</td>\n",
              "      <td>-53327000</td>\n",
              "      <td>-46109000</td>\n",
              "      <td>665897000.0</td>\n",
              "      <td>9.258800e+08</td>\n",
              "      <td>9.279640e+08</td>\n",
              "      <td>9302000</td>\n",
              "      <td>-29076000.0</td>\n",
              "      <td>2084000</td>\n",
              "      <td>2084000</td>\n",
              "      <td>262067000</td>\n",
              "      <td>259983000.0</td>\n",
              "      <td>-53327000</td>\n",
              "      <td>-44025000</td>\n",
              "      <td>NaN</td>\n",
              "      <td>NaN</td>\n",
              "      <td>NaN</td>\n",
              "      <td>NaN</td>\n",
              "    </tr>\n",
              "    <tr>\n",
              "      <th>1</th>\n",
              "      <td>IVC</td>\n",
              "      <td>12/31/2018</td>\n",
              "      <td>-43922000</td>\n",
              "      <td>-43922000</td>\n",
              "      <td>-19722000</td>\n",
              "      <td>704671000.0</td>\n",
              "      <td>9.867270e+08</td>\n",
              "      <td>9.723470e+08</td>\n",
              "      <td>9820000</td>\n",
              "      <td>-28336000.0</td>\n",
              "      <td>-14380000</td>\n",
              "      <td>-14380000</td>\n",
              "      <td>267676000</td>\n",
              "      <td>282056000.0</td>\n",
              "      <td>-43922000</td>\n",
              "      <td>-34102000</td>\n",
              "      <td>NaN</td>\n",
              "      <td>NaN</td>\n",
              "      <td>NaN</td>\n",
              "      <td>NaN</td>\n",
              "    </tr>\n",
              "    <tr>\n",
              "      <th>2</th>\n",
              "      <td>IVC</td>\n",
              "      <td>12/31/2017</td>\n",
              "      <td>-76541000</td>\n",
              "      <td>-76541000</td>\n",
              "      <td>-38763000</td>\n",
              "      <td>697246000.0</td>\n",
              "      <td>9.939840e+08</td>\n",
              "      <td>9.664970e+08</td>\n",
              "      <td>10291000</td>\n",
              "      <td>-22907000.0</td>\n",
              "      <td>-27487000</td>\n",
              "      <td>-27487000</td>\n",
              "      <td>269251000</td>\n",
              "      <td>296738000.0</td>\n",
              "      <td>-76541000</td>\n",
              "      <td>-66250000</td>\n",
              "      <td>NaN</td>\n",
              "      <td>NaN</td>\n",
              "      <td>NaN</td>\n",
              "      <td>NaN</td>\n",
              "    </tr>\n",
              "    <tr>\n",
              "      <th>3</th>\n",
              "      <td>IVC</td>\n",
              "      <td>12/31/2016</td>\n",
              "      <td>-42856000</td>\n",
              "      <td>-42856000</td>\n",
              "      <td>-9208000</td>\n",
              "      <td>763847000.0</td>\n",
              "      <td>1.067823e+09</td>\n",
              "      <td>1.047474e+09</td>\n",
              "      <td>13299000</td>\n",
              "      <td>-15875000.0</td>\n",
              "      <td>-20349000</td>\n",
              "      <td>-20349000</td>\n",
              "      <td>283627000</td>\n",
              "      <td>303976000.0</td>\n",
              "      <td>-42856000</td>\n",
              "      <td>-29557000</td>\n",
              "      <td>NaN</td>\n",
              "      <td>NaN</td>\n",
              "      <td>NaN</td>\n",
              "      <td>NaN</td>\n",
              "    </tr>\n",
              "    <tr>\n",
              "      <th>4</th>\n",
              "      <td>CSLT</td>\n",
              "      <td>12/31/2019</td>\n",
              "      <td>-40002000</td>\n",
              "      <td>-40002000</td>\n",
              "      <td>1336000</td>\n",
              "      <td>59074000.0</td>\n",
              "      <td>1.846460e+08</td>\n",
              "      <td>1.433080e+08</td>\n",
              "      <td>0</td>\n",
              "      <td>NaN</td>\n",
              "      <td>-41338000</td>\n",
              "      <td>-41338000</td>\n",
              "      <td>84234000</td>\n",
              "      <td>66578000.0</td>\n",
              "      <td>-40002000</td>\n",
              "      <td>-40002000</td>\n",
              "      <td>58994000.0</td>\n",
              "      <td>NaN</td>\n",
              "      <td>NaN</td>\n",
              "      <td>NaN</td>\n",
              "    </tr>\n",
              "  </tbody>\n",
              "</table>\n",
              "</div>"
            ],
            "text/plain": [
              "  stock     endDate  netIncomeApplicableToCommonShares  \\\n",
              "0   IVC  12/31/2019                          -53327000   \n",
              "1   IVC  12/31/2018                          -43922000   \n",
              "2   IVC  12/31/2017                          -76541000   \n",
              "3   IVC  12/31/2016                          -42856000   \n",
              "4  CSLT  12/31/2019                          -40002000   \n",
              "\n",
              "   netIncomeFromContinuingOps  totalOtherIncomeExpenseNet  costOfRevenue  \\\n",
              "0                   -53327000                   -46109000    665897000.0   \n",
              "1                   -43922000                   -19722000    704671000.0   \n",
              "2                   -76541000                   -38763000    697246000.0   \n",
              "3                   -42856000                    -9208000    763847000.0   \n",
              "4                   -40002000                     1336000     59074000.0   \n",
              "\n",
              "   totalOperatingExpenses  totalRevenue  incomeTaxExpense  interestExpense  \\\n",
              "0            9.258800e+08  9.279640e+08           9302000      -29076000.0   \n",
              "1            9.867270e+08  9.723470e+08           9820000      -28336000.0   \n",
              "2            9.939840e+08  9.664970e+08          10291000      -22907000.0   \n",
              "3            1.067823e+09  1.047474e+09          13299000      -15875000.0   \n",
              "4            1.846460e+08  1.433080e+08                 0              NaN   \n",
              "\n",
              "   operatingIncome      ebit  grossProfit  sellingGeneralAdministrative  \\\n",
              "0          2084000   2084000    262067000                   259983000.0   \n",
              "1        -14380000 -14380000    267676000                   282056000.0   \n",
              "2        -27487000 -27487000    269251000                   296738000.0   \n",
              "3        -20349000 -20349000    283627000                   303976000.0   \n",
              "4        -41338000 -41338000     84234000                    66578000.0   \n",
              "\n",
              "   netIncome  incomeBeforeTax  researchDevelopment  otherOperatingExpenses  \\\n",
              "0  -53327000        -44025000                  NaN                     NaN   \n",
              "1  -43922000        -34102000                  NaN                     NaN   \n",
              "2  -76541000        -66250000                  NaN                     NaN   \n",
              "3  -42856000        -29557000                  NaN                     NaN   \n",
              "4  -40002000        -40002000           58994000.0                     NaN   \n",
              "\n",
              "   minorityInterest  discontinuedOperations  \n",
              "0               NaN                     NaN  \n",
              "1               NaN                     NaN  \n",
              "2               NaN                     NaN  \n",
              "3               NaN                     NaN  \n",
              "4               NaN                     NaN  "
            ]
          },
          "execution_count": 13,
          "metadata": {},
          "output_type": "execute_result"
        }
      ],
      "source": [
        "#understanding data\n",
        "data.head()"
      ]
    },
    {
      "cell_type": "code",
      "execution_count": null,
      "id": "d28449ed",
      "metadata": {
        "id": "d28449ed",
        "outputId": "e8cf951d-81b4-4e06-c827-959ba855422c"
      },
      "outputs": [
        {
          "data": {
            "text/html": [
              "<div>\n",
              "<style scoped>\n",
              "    .dataframe tbody tr th:only-of-type {\n",
              "        vertical-align: middle;\n",
              "    }\n",
              "\n",
              "    .dataframe tbody tr th {\n",
              "        vertical-align: top;\n",
              "    }\n",
              "\n",
              "    .dataframe thead th {\n",
              "        text-align: right;\n",
              "    }\n",
              "</style>\n",
              "<table border=\"1\" class=\"dataframe\">\n",
              "  <thead>\n",
              "    <tr style=\"text-align: right;\">\n",
              "      <th></th>\n",
              "      <th>stock</th>\n",
              "      <th>endDate</th>\n",
              "      <th>netIncomeApplicableToCommonShares</th>\n",
              "      <th>netIncomeFromContinuingOps</th>\n",
              "      <th>totalOtherIncomeExpenseNet</th>\n",
              "      <th>costOfRevenue</th>\n",
              "      <th>totalOperatingExpenses</th>\n",
              "      <th>totalRevenue</th>\n",
              "      <th>incomeTaxExpense</th>\n",
              "      <th>interestExpense</th>\n",
              "      <th>operatingIncome</th>\n",
              "      <th>ebit</th>\n",
              "      <th>grossProfit</th>\n",
              "      <th>sellingGeneralAdministrative</th>\n",
              "      <th>netIncome</th>\n",
              "      <th>incomeBeforeTax</th>\n",
              "      <th>researchDevelopment</th>\n",
              "      <th>otherOperatingExpenses</th>\n",
              "      <th>minorityInterest</th>\n",
              "      <th>discontinuedOperations</th>\n",
              "    </tr>\n",
              "  </thead>\n",
              "  <tbody>\n",
              "    <tr>\n",
              "      <th>494</th>\n",
              "      <td>EXPO</td>\n",
              "      <td>12/28/2018</td>\n",
              "      <td>72254000</td>\n",
              "      <td>72254000</td>\n",
              "      <td>1861000</td>\n",
              "      <td>215052000.0</td>\n",
              "      <td>263183000.0</td>\n",
              "      <td>354639000.0</td>\n",
              "      <td>21063000</td>\n",
              "      <td>NaN</td>\n",
              "      <td>91456000</td>\n",
              "      <td>91456000</td>\n",
              "      <td>139587000</td>\n",
              "      <td>17532000.0</td>\n",
              "      <td>72254000</td>\n",
              "      <td>93317000</td>\n",
              "      <td>NaN</td>\n",
              "      <td>30599000.0</td>\n",
              "      <td>NaN</td>\n",
              "      <td>NaN</td>\n",
              "    </tr>\n",
              "    <tr>\n",
              "      <th>495</th>\n",
              "      <td>EXPO</td>\n",
              "      <td>12/29/2017</td>\n",
              "      <td>41305000</td>\n",
              "      <td>41305000</td>\n",
              "      <td>10458000</td>\n",
              "      <td>210289000.0</td>\n",
              "      <td>257613000.0</td>\n",
              "      <td>329664000.0</td>\n",
              "      <td>41204000</td>\n",
              "      <td>NaN</td>\n",
              "      <td>72051000</td>\n",
              "      <td>72051000</td>\n",
              "      <td>119375000</td>\n",
              "      <td>17780000.0</td>\n",
              "      <td>41305000</td>\n",
              "      <td>82509000</td>\n",
              "      <td>NaN</td>\n",
              "      <td>29544000.0</td>\n",
              "      <td>NaN</td>\n",
              "      <td>NaN</td>\n",
              "    </tr>\n",
              "    <tr>\n",
              "      <th>496</th>\n",
              "      <td>EXPO</td>\n",
              "      <td>12/30/2016</td>\n",
              "      <td>47480000</td>\n",
              "      <td>47480000</td>\n",
              "      <td>7211000</td>\n",
              "      <td>193397000.0</td>\n",
              "      <td>237286000.0</td>\n",
              "      <td>299197000.0</td>\n",
              "      <td>21642000</td>\n",
              "      <td>NaN</td>\n",
              "      <td>61911000</td>\n",
              "      <td>61911000</td>\n",
              "      <td>105800000</td>\n",
              "      <td>21970000.0</td>\n",
              "      <td>47480000</td>\n",
              "      <td>69122000</td>\n",
              "      <td>NaN</td>\n",
              "      <td>21919000.0</td>\n",
              "      <td>NaN</td>\n",
              "      <td>NaN</td>\n",
              "    </tr>\n",
              "    <tr>\n",
              "      <th>497</th>\n",
              "      <td>MDLY</td>\n",
              "      <td>12/31/2019</td>\n",
              "      <td>-3529000</td>\n",
              "      <td>-16770000</td>\n",
              "      <td>-20948000</td>\n",
              "      <td>27367000.0</td>\n",
              "      <td>39953000.0</td>\n",
              "      <td>48841000.0</td>\n",
              "      <td>4710000</td>\n",
              "      <td>-11497000.0</td>\n",
              "      <td>8888000</td>\n",
              "      <td>8888000</td>\n",
              "      <td>21474000</td>\n",
              "      <td>12586000.0</td>\n",
              "      <td>-3379000</td>\n",
              "      <td>-12060000</td>\n",
              "      <td>NaN</td>\n",
              "      <td>NaN</td>\n",
              "      <td>-109714000.0</td>\n",
              "      <td>NaN</td>\n",
              "    </tr>\n",
              "    <tr>\n",
              "      <th>498</th>\n",
              "      <td>MDLY</td>\n",
              "      <td>12/31/2018</td>\n",
              "      <td>-3629000</td>\n",
              "      <td>-21526000</td>\n",
              "      <td>-33275000</td>\n",
              "      <td>28936000.0</td>\n",
              "      <td>44502000.0</td>\n",
              "      <td>56509000.0</td>\n",
              "      <td>258000</td>\n",
              "      <td>-10806000.0</td>\n",
              "      <td>12007000</td>\n",
              "      <td>12007000</td>\n",
              "      <td>27573000</td>\n",
              "      <td>15566000.0</td>\n",
              "      <td>-2432000</td>\n",
              "      <td>-21268000</td>\n",
              "      <td>NaN</td>\n",
              "      <td>NaN</td>\n",
              "      <td>-75403000.0</td>\n",
              "      <td>NaN</td>\n",
              "    </tr>\n",
              "  </tbody>\n",
              "</table>\n",
              "</div>"
            ],
            "text/plain": [
              "    stock     endDate  netIncomeApplicableToCommonShares  \\\n",
              "494  EXPO  12/28/2018                           72254000   \n",
              "495  EXPO  12/29/2017                           41305000   \n",
              "496  EXPO  12/30/2016                           47480000   \n",
              "497  MDLY  12/31/2019                           -3529000   \n",
              "498  MDLY  12/31/2018                           -3629000   \n",
              "\n",
              "     netIncomeFromContinuingOps  totalOtherIncomeExpenseNet  costOfRevenue  \\\n",
              "494                    72254000                     1861000    215052000.0   \n",
              "495                    41305000                    10458000    210289000.0   \n",
              "496                    47480000                     7211000    193397000.0   \n",
              "497                   -16770000                   -20948000     27367000.0   \n",
              "498                   -21526000                   -33275000     28936000.0   \n",
              "\n",
              "     totalOperatingExpenses  totalRevenue  incomeTaxExpense  interestExpense  \\\n",
              "494             263183000.0   354639000.0          21063000              NaN   \n",
              "495             257613000.0   329664000.0          41204000              NaN   \n",
              "496             237286000.0   299197000.0          21642000              NaN   \n",
              "497              39953000.0    48841000.0           4710000      -11497000.0   \n",
              "498              44502000.0    56509000.0            258000      -10806000.0   \n",
              "\n",
              "     operatingIncome      ebit  grossProfit  sellingGeneralAdministrative  \\\n",
              "494         91456000  91456000    139587000                    17532000.0   \n",
              "495         72051000  72051000    119375000                    17780000.0   \n",
              "496         61911000  61911000    105800000                    21970000.0   \n",
              "497          8888000   8888000     21474000                    12586000.0   \n",
              "498         12007000  12007000     27573000                    15566000.0   \n",
              "\n",
              "     netIncome  incomeBeforeTax  researchDevelopment  otherOperatingExpenses  \\\n",
              "494   72254000         93317000                  NaN              30599000.0   \n",
              "495   41305000         82509000                  NaN              29544000.0   \n",
              "496   47480000         69122000                  NaN              21919000.0   \n",
              "497   -3379000        -12060000                  NaN                     NaN   \n",
              "498   -2432000        -21268000                  NaN                     NaN   \n",
              "\n",
              "     minorityInterest  discontinuedOperations  \n",
              "494               NaN                     NaN  \n",
              "495               NaN                     NaN  \n",
              "496               NaN                     NaN  \n",
              "497      -109714000.0                     NaN  \n",
              "498       -75403000.0                     NaN  "
            ]
          },
          "execution_count": 14,
          "metadata": {},
          "output_type": "execute_result"
        }
      ],
      "source": [
        "data.tail()"
      ]
    },
    {
      "cell_type": "code",
      "execution_count": null,
      "id": "7beaae2d",
      "metadata": {
        "id": "7beaae2d",
        "outputId": "d963c630-9763-4da3-83cd-2b424b215311"
      },
      "outputs": [
        {
          "data": {
            "text/html": [
              "<div>\n",
              "<style scoped>\n",
              "    .dataframe tbody tr th:only-of-type {\n",
              "        vertical-align: middle;\n",
              "    }\n",
              "\n",
              "    .dataframe tbody tr th {\n",
              "        vertical-align: top;\n",
              "    }\n",
              "\n",
              "    .dataframe thead th {\n",
              "        text-align: right;\n",
              "    }\n",
              "</style>\n",
              "<table border=\"1\" class=\"dataframe\">\n",
              "  <thead>\n",
              "    <tr style=\"text-align: right;\">\n",
              "      <th></th>\n",
              "      <th>netIncomeApplicableToCommonShares</th>\n",
              "      <th>netIncomeFromContinuingOps</th>\n",
              "      <th>totalOtherIncomeExpenseNet</th>\n",
              "      <th>costOfRevenue</th>\n",
              "      <th>totalOperatingExpenses</th>\n",
              "      <th>totalRevenue</th>\n",
              "      <th>incomeTaxExpense</th>\n",
              "      <th>interestExpense</th>\n",
              "      <th>operatingIncome</th>\n",
              "      <th>ebit</th>\n",
              "      <th>grossProfit</th>\n",
              "      <th>sellingGeneralAdministrative</th>\n",
              "      <th>netIncome</th>\n",
              "      <th>incomeBeforeTax</th>\n",
              "      <th>researchDevelopment</th>\n",
              "      <th>otherOperatingExpenses</th>\n",
              "      <th>minorityInterest</th>\n",
              "      <th>discontinuedOperations</th>\n",
              "    </tr>\n",
              "  </thead>\n",
              "  <tbody>\n",
              "    <tr>\n",
              "      <th>count</th>\n",
              "      <td>4.990000e+02</td>\n",
              "      <td>4.990000e+02</td>\n",
              "      <td>4.990000e+02</td>\n",
              "      <td>4.990000e+02</td>\n",
              "      <td>4.990000e+02</td>\n",
              "      <td>4.990000e+02</td>\n",
              "      <td>4.990000e+02</td>\n",
              "      <td>3.540000e+02</td>\n",
              "      <td>4.990000e+02</td>\n",
              "      <td>4.990000e+02</td>\n",
              "      <td>4.990000e+02</td>\n",
              "      <td>4.910000e+02</td>\n",
              "      <td>4.990000e+02</td>\n",
              "      <td>4.990000e+02</td>\n",
              "      <td>1.540000e+02</td>\n",
              "      <td>1.430000e+02</td>\n",
              "      <td>1.340000e+02</td>\n",
              "      <td>3.600000e+01</td>\n",
              "    </tr>\n",
              "    <tr>\n",
              "      <th>mean</th>\n",
              "      <td>2.504458e+08</td>\n",
              "      <td>2.668337e+08</td>\n",
              "      <td>-8.408956e+07</td>\n",
              "      <td>4.840350e+09</td>\n",
              "      <td>5.649567e+09</td>\n",
              "      <td>6.077227e+09</td>\n",
              "      <td>7.684280e+07</td>\n",
              "      <td>-7.824264e+07</td>\n",
              "      <td>4.276607e+08</td>\n",
              "      <td>3.897468e+08</td>\n",
              "      <td>1.236878e+09</td>\n",
              "      <td>7.122355e+08</td>\n",
              "      <td>2.518849e+08</td>\n",
              "      <td>3.436765e+08</td>\n",
              "      <td>7.962123e+07</td>\n",
              "      <td>6.083039e+07</td>\n",
              "      <td>9.431751e+08</td>\n",
              "      <td>1.261692e+08</td>\n",
              "    </tr>\n",
              "    <tr>\n",
              "      <th>std</th>\n",
              "      <td>1.237964e+09</td>\n",
              "      <td>1.276729e+09</td>\n",
              "      <td>4.805446e+08</td>\n",
              "      <td>2.053589e+10</td>\n",
              "      <td>2.332205e+10</td>\n",
              "      <td>2.479180e+10</td>\n",
              "      <td>4.135712e+08</td>\n",
              "      <td>1.982832e+08</td>\n",
              "      <td>1.709161e+09</td>\n",
              "      <td>1.693084e+09</td>\n",
              "      <td>4.889326e+09</td>\n",
              "      <td>3.054180e+09</td>\n",
              "      <td>1.238007e+09</td>\n",
              "      <td>1.631033e+09</td>\n",
              "      <td>1.730963e+08</td>\n",
              "      <td>2.681020e+08</td>\n",
              "      <td>2.988177e+09</td>\n",
              "      <td>4.305958e+08</td>\n",
              "    </tr>\n",
              "    <tr>\n",
              "      <th>min</th>\n",
              "      <td>-6.942500e+09</td>\n",
              "      <td>-6.632800e+09</td>\n",
              "      <td>-8.872700e+09</td>\n",
              "      <td>0.000000e+00</td>\n",
              "      <td>-2.731784e+06</td>\n",
              "      <td>-1.367030e+08</td>\n",
              "      <td>-1.515000e+09</td>\n",
              "      <td>-1.704000e+09</td>\n",
              "      <td>-3.445709e+09</td>\n",
              "      <td>-3.445709e+09</td>\n",
              "      <td>-2.259900e+08</td>\n",
              "      <td>-2.731784e+06</td>\n",
              "      <td>-6.942500e+09</td>\n",
              "      <td>-7.991700e+09</td>\n",
              "      <td>3.017760e+05</td>\n",
              "      <td>-1.694150e+08</td>\n",
              "      <td>-1.317000e+08</td>\n",
              "      <td>-1.161000e+09</td>\n",
              "    </tr>\n",
              "    <tr>\n",
              "      <th>25%</th>\n",
              "      <td>-1.708650e+07</td>\n",
              "      <td>-1.514384e+07</td>\n",
              "      <td>-3.865800e+07</td>\n",
              "      <td>0.000000e+00</td>\n",
              "      <td>4.291150e+07</td>\n",
              "      <td>3.733214e+07</td>\n",
              "      <td>0.000000e+00</td>\n",
              "      <td>-5.099450e+07</td>\n",
              "      <td>-8.425000e+06</td>\n",
              "      <td>-8.267500e+06</td>\n",
              "      <td>1.864200e+07</td>\n",
              "      <td>1.569150e+07</td>\n",
              "      <td>-1.514384e+07</td>\n",
              "      <td>-1.757550e+07</td>\n",
              "      <td>8.117610e+06</td>\n",
              "      <td>1.190000e+05</td>\n",
              "      <td>5.414750e+06</td>\n",
              "      <td>-1.790250e+07</td>\n",
              "    </tr>\n",
              "    <tr>\n",
              "      <th>50%</th>\n",
              "      <td>8.384000e+06</td>\n",
              "      <td>1.080700e+07</td>\n",
              "      <td>-3.724000e+06</td>\n",
              "      <td>7.362500e+07</td>\n",
              "      <td>1.953980e+08</td>\n",
              "      <td>2.457490e+08</td>\n",
              "      <td>5.790000e+05</td>\n",
              "      <td>-1.134700e+07</td>\n",
              "      <td>1.912100e+07</td>\n",
              "      <td>5.624630e+05</td>\n",
              "      <td>1.320440e+08</td>\n",
              "      <td>5.650100e+07</td>\n",
              "      <td>9.228000e+06</td>\n",
              "      <td>1.069300e+07</td>\n",
              "      <td>2.614050e+07</td>\n",
              "      <td>5.626000e+06</td>\n",
              "      <td>2.635000e+07</td>\n",
              "      <td>1.455000e+05</td>\n",
              "    </tr>\n",
              "    <tr>\n",
              "      <th>75%</th>\n",
              "      <td>1.041255e+08</td>\n",
              "      <td>1.043165e+08</td>\n",
              "      <td>0.000000e+00</td>\n",
              "      <td>5.636240e+08</td>\n",
              "      <td>1.053302e+09</td>\n",
              "      <td>1.111286e+09</td>\n",
              "      <td>1.624400e+07</td>\n",
              "      <td>-9.954062e+05</td>\n",
              "      <td>1.629865e+08</td>\n",
              "      <td>1.223810e+08</td>\n",
              "      <td>5.175375e+08</td>\n",
              "      <td>2.929520e+08</td>\n",
              "      <td>1.043165e+08</td>\n",
              "      <td>1.214370e+08</td>\n",
              "      <td>7.147125e+07</td>\n",
              "      <td>2.088050e+07</td>\n",
              "      <td>2.976742e+08</td>\n",
              "      <td>4.397500e+07</td>\n",
              "    </tr>\n",
              "    <tr>\n",
              "      <th>max</th>\n",
              "      <td>1.383900e+10</td>\n",
              "      <td>1.423900e+10</td>\n",
              "      <td>1.240824e+09</td>\n",
              "      <td>1.845570e+11</td>\n",
              "      <td>2.224700e+11</td>\n",
              "      <td>2.421550e+11</td>\n",
              "      <td>4.790000e+09</td>\n",
              "      <td>-1.600000e+01</td>\n",
              "      <td>1.968500e+10</td>\n",
              "      <td>1.968500e+10</td>\n",
              "      <td>5.759800e+10</td>\n",
              "      <td>3.519300e+10</td>\n",
              "      <td>1.383900e+10</td>\n",
              "      <td>1.798100e+10</td>\n",
              "      <td>1.534863e+09</td>\n",
              "      <td>2.255826e+09</td>\n",
              "      <td>1.969488e+10</td>\n",
              "      <td>1.142000e+09</td>\n",
              "    </tr>\n",
              "  </tbody>\n",
              "</table>\n",
              "</div>"
            ],
            "text/plain": [
              "       netIncomeApplicableToCommonShares  netIncomeFromContinuingOps  \\\n",
              "count                       4.990000e+02                4.990000e+02   \n",
              "mean                        2.504458e+08                2.668337e+08   \n",
              "std                         1.237964e+09                1.276729e+09   \n",
              "min                        -6.942500e+09               -6.632800e+09   \n",
              "25%                        -1.708650e+07               -1.514384e+07   \n",
              "50%                         8.384000e+06                1.080700e+07   \n",
              "75%                         1.041255e+08                1.043165e+08   \n",
              "max                         1.383900e+10                1.423900e+10   \n",
              "\n",
              "       totalOtherIncomeExpenseNet  costOfRevenue  totalOperatingExpenses  \\\n",
              "count                4.990000e+02   4.990000e+02            4.990000e+02   \n",
              "mean                -8.408956e+07   4.840350e+09            5.649567e+09   \n",
              "std                  4.805446e+08   2.053589e+10            2.332205e+10   \n",
              "min                 -8.872700e+09   0.000000e+00           -2.731784e+06   \n",
              "25%                 -3.865800e+07   0.000000e+00            4.291150e+07   \n",
              "50%                 -3.724000e+06   7.362500e+07            1.953980e+08   \n",
              "75%                  0.000000e+00   5.636240e+08            1.053302e+09   \n",
              "max                  1.240824e+09   1.845570e+11            2.224700e+11   \n",
              "\n",
              "       totalRevenue  incomeTaxExpense  interestExpense  operatingIncome  \\\n",
              "count  4.990000e+02      4.990000e+02     3.540000e+02     4.990000e+02   \n",
              "mean   6.077227e+09      7.684280e+07    -7.824264e+07     4.276607e+08   \n",
              "std    2.479180e+10      4.135712e+08     1.982832e+08     1.709161e+09   \n",
              "min   -1.367030e+08     -1.515000e+09    -1.704000e+09    -3.445709e+09   \n",
              "25%    3.733214e+07      0.000000e+00    -5.099450e+07    -8.425000e+06   \n",
              "50%    2.457490e+08      5.790000e+05    -1.134700e+07     1.912100e+07   \n",
              "75%    1.111286e+09      1.624400e+07    -9.954062e+05     1.629865e+08   \n",
              "max    2.421550e+11      4.790000e+09    -1.600000e+01     1.968500e+10   \n",
              "\n",
              "               ebit   grossProfit  sellingGeneralAdministrative     netIncome  \\\n",
              "count  4.990000e+02  4.990000e+02                  4.910000e+02  4.990000e+02   \n",
              "mean   3.897468e+08  1.236878e+09                  7.122355e+08  2.518849e+08   \n",
              "std    1.693084e+09  4.889326e+09                  3.054180e+09  1.238007e+09   \n",
              "min   -3.445709e+09 -2.259900e+08                 -2.731784e+06 -6.942500e+09   \n",
              "25%   -8.267500e+06  1.864200e+07                  1.569150e+07 -1.514384e+07   \n",
              "50%    5.624630e+05  1.320440e+08                  5.650100e+07  9.228000e+06   \n",
              "75%    1.223810e+08  5.175375e+08                  2.929520e+08  1.043165e+08   \n",
              "max    1.968500e+10  5.759800e+10                  3.519300e+10  1.383900e+10   \n",
              "\n",
              "       incomeBeforeTax  researchDevelopment  otherOperatingExpenses  \\\n",
              "count     4.990000e+02         1.540000e+02            1.430000e+02   \n",
              "mean      3.436765e+08         7.962123e+07            6.083039e+07   \n",
              "std       1.631033e+09         1.730963e+08            2.681020e+08   \n",
              "min      -7.991700e+09         3.017760e+05           -1.694150e+08   \n",
              "25%      -1.757550e+07         8.117610e+06            1.190000e+05   \n",
              "50%       1.069300e+07         2.614050e+07            5.626000e+06   \n",
              "75%       1.214370e+08         7.147125e+07            2.088050e+07   \n",
              "max       1.798100e+10         1.534863e+09            2.255826e+09   \n",
              "\n",
              "       minorityInterest  discontinuedOperations  \n",
              "count      1.340000e+02            3.600000e+01  \n",
              "mean       9.431751e+08            1.261692e+08  \n",
              "std        2.988177e+09            4.305958e+08  \n",
              "min       -1.317000e+08           -1.161000e+09  \n",
              "25%        5.414750e+06           -1.790250e+07  \n",
              "50%        2.635000e+07            1.455000e+05  \n",
              "75%        2.976742e+08            4.397500e+07  \n",
              "max        1.969488e+10            1.142000e+09  "
            ]
          },
          "execution_count": 15,
          "metadata": {},
          "output_type": "execute_result"
        }
      ],
      "source": [
        "data.describe()"
      ]
    },
    {
      "cell_type": "code",
      "execution_count": null,
      "id": "eba0d82b",
      "metadata": {
        "id": "eba0d82b",
        "outputId": "0e281d6a-f207-4f64-aff2-a77be31aa4a7"
      },
      "outputs": [
        {
          "data": {
            "text/plain": [
              "(499, 20)"
            ]
          },
          "execution_count": 16,
          "metadata": {},
          "output_type": "execute_result"
        }
      ],
      "source": [
        "data.shape"
      ]
    },
    {
      "cell_type": "code",
      "execution_count": null,
      "id": "23c54bc2",
      "metadata": {
        "id": "23c54bc2",
        "outputId": "041319c8-0367-4ea3-923b-d6aeb509f410"
      },
      "outputs": [
        {
          "data": {
            "text/plain": [
              "Index(['stock', 'endDate', 'netIncomeApplicableToCommonShares',\n",
              "       'netIncomeFromContinuingOps', 'totalOtherIncomeExpenseNet',\n",
              "       'costOfRevenue', 'totalOperatingExpenses', 'totalRevenue',\n",
              "       'incomeTaxExpense', 'interestExpense', 'operatingIncome', 'ebit',\n",
              "       'grossProfit', 'sellingGeneralAdministrative', 'netIncome',\n",
              "       'incomeBeforeTax', 'researchDevelopment', 'otherOperatingExpenses',\n",
              "       'minorityInterest', 'discontinuedOperations'],\n",
              "      dtype='object')"
            ]
          },
          "execution_count": 17,
          "metadata": {},
          "output_type": "execute_result"
        }
      ],
      "source": [
        "data.columns"
      ]
    },
    {
      "cell_type": "code",
      "execution_count": null,
      "id": "2066f55b",
      "metadata": {
        "id": "2066f55b",
        "outputId": "4b137185-f021-47f5-d141-918d4f310d26"
      },
      "outputs": [
        {
          "data": {
            "text/plain": [
              "stock                                  0\n",
              "endDate                                0\n",
              "netIncomeApplicableToCommonShares      0\n",
              "netIncomeFromContinuingOps             0\n",
              "totalOtherIncomeExpenseNet             0\n",
              "costOfRevenue                          0\n",
              "totalOperatingExpenses                 0\n",
              "totalRevenue                           0\n",
              "incomeTaxExpense                       0\n",
              "interestExpense                      145\n",
              "operatingIncome                        0\n",
              "ebit                                   0\n",
              "grossProfit                            0\n",
              "sellingGeneralAdministrative           8\n",
              "netIncome                              0\n",
              "incomeBeforeTax                        0\n",
              "researchDevelopment                  345\n",
              "otherOperatingExpenses               356\n",
              "minorityInterest                     365\n",
              "discontinuedOperations               463\n",
              "dtype: int64"
            ]
          },
          "execution_count": 18,
          "metadata": {},
          "output_type": "execute_result"
        }
      ],
      "source": [
        "data.isnull().sum()"
      ]
    },
    {
      "cell_type": "code",
      "execution_count": null,
      "id": "82cd975f",
      "metadata": {
        "id": "82cd975f",
        "outputId": "a5e7ad2e-6391-4d73-c76b-eec583a87661"
      },
      "outputs": [
        {
          "name": "stdout",
          "output_type": "stream",
          "text": [
            "IVC     4\n",
            "BKYI    4\n",
            "RPAI    4\n",
            "COUP    4\n",
            "PLUG    4\n",
            "       ..\n",
            "CSPR    3\n",
            "ETNB    2\n",
            "MDLY    2\n",
            "ACTT    1\n",
            "TMBR    1\n",
            "Name: stock, Length: 129, dtype: int64\n"
          ]
        }
      ],
      "source": [
        "#measures of frequency\n",
        "# Calculate the number of occurrences of each value in a column\n",
        "value_counts = data['stock'].value_counts()\n",
        "print(value_counts)"
      ]
    },
    {
      "cell_type": "code",
      "execution_count": null,
      "id": "82bc4976",
      "metadata": {
        "id": "82bc4976",
        "outputId": "9bd93f17-fea0-4ff8-9d84-967ef54705ad"
      },
      "outputs": [
        {
          "name": "stdout",
          "output_type": "stream",
          "text": [
            "IVC     0.801603\n",
            "BKYI    0.801603\n",
            "RPAI    0.801603\n",
            "COUP    0.801603\n",
            "PLUG    0.801603\n",
            "          ...   \n",
            "CSPR    0.601202\n",
            "ETNB    0.400802\n",
            "MDLY    0.400802\n",
            "ACTT    0.200401\n",
            "TMBR    0.200401\n",
            "Name: stock, Length: 129, dtype: float64\n"
          ]
        }
      ],
      "source": [
        "# Calculate the percentage of occurrences of each value in a column\n",
        "value_counts_pct = data['stock'].value_counts(normalize=True) * 100\n",
        "print(value_counts_pct)"
      ]
    },
    {
      "cell_type": "code",
      "execution_count": null,
      "id": "57b67170",
      "metadata": {
        "id": "57b67170",
        "outputId": "2fe665f4-a376-494e-d02e-9596b02e4a3a"
      },
      "outputs": [
        {
          "name": "stdout",
          "output_type": "stream",
          "text": [
            "499\n"
          ]
        }
      ],
      "source": [
        "# Calculate the total count of values in a column\n",
        "count = data['stock'].count()\n",
        "print(count)\n"
      ]
    },
    {
      "cell_type": "code",
      "execution_count": null,
      "id": "c8313fb3",
      "metadata": {
        "id": "c8313fb3",
        "outputId": "676d3b8f-32fb-4878-ab6b-e0cd423b1845"
      },
      "outputs": [
        {
          "name": "stdout",
          "output_type": "stream",
          "text": [
            "6077227249.468938\n"
          ]
        }
      ],
      "source": [
        "#measures of central tendency\n",
        "# Calculate the mean of a numerical column\n",
        "mean = data['totalRevenue'].mean()\n",
        "print(mean)"
      ]
    },
    {
      "cell_type": "code",
      "execution_count": null,
      "id": "897762e9",
      "metadata": {
        "id": "897762e9",
        "outputId": "88ac1a12-fefa-42b7-bcec-1c0a0db5ddf5"
      },
      "outputs": [
        {
          "name": "stdout",
          "output_type": "stream",
          "text": [
            "245749032.0\n"
          ]
        }
      ],
      "source": [
        "# Calculate the median of a numerical column\n",
        "median =data['totalRevenue'] .median()\n",
        "print(median)"
      ]
    },
    {
      "cell_type": "code",
      "execution_count": null,
      "id": "ba4e730b",
      "metadata": {
        "id": "ba4e730b",
        "outputId": "1ec196b6-c78b-487e-e97b-b8137a6a6878"
      },
      "outputs": [
        {
          "name": "stdout",
          "output_type": "stream",
          "text": [
            "0    0.0\n",
            "Name: totalRevenue, dtype: float64\n"
          ]
        }
      ],
      "source": [
        "# Calculate the mode of a column\n",
        "mode = data['totalRevenue'].mode()\n",
        "print(mode)"
      ]
    },
    {
      "cell_type": "code",
      "execution_count": null,
      "id": "ef40caea",
      "metadata": {
        "id": "ef40caea",
        "outputId": "3c5c4a37-e15a-4534-ea6f-184b9aca8236"
      },
      "outputs": [
        {
          "name": "stdout",
          "output_type": "stream",
          "text": [
            "nan\n"
          ]
        },
        {
          "name": "stderr",
          "output_type": "stream",
          "text": [
            "C:\\Users\\CTS\\AppData\\Local\\Programs\\Python\\Python39\\lib\\site-packages\\scipy\\stats\\_stats_py.py:267: RuntimeWarning: invalid value encountered in log\n",
            "  log_a = np.log(a)\n"
          ]
        }
      ],
      "source": [
        "# Calculate the geometric mean of a numerical column\n",
        "geometric_mean = stats.gmean(data['totalRevenue'])\n",
        "print(geometric_mean)"
      ]
    },
    {
      "cell_type": "code",
      "execution_count": null,
      "id": "0bb31e98",
      "metadata": {
        "id": "0bb31e98",
        "outputId": "7c3d2e0f-1195-401c-b1dc-12e2694c7e43"
      },
      "outputs": [
        {
          "name": "stdout",
          "output_type": "stream",
          "text": [
            "242291703000.0\n"
          ]
        }
      ],
      "source": [
        "#measures of dispersion\n",
        "# Calculate the range of a numerical column\n",
        "range = data['totalRevenue'].max() - data['totalRevenue'].min()\n",
        "print(range)"
      ]
    },
    {
      "cell_type": "code",
      "execution_count": null,
      "id": "6e4851f5",
      "metadata": {
        "id": "6e4851f5",
        "outputId": "b7f89a65-35b4-4945-b88f-ebe96770d7da"
      },
      "outputs": [
        {
          "name": "stdout",
          "output_type": "stream",
          "text": [
            "6.134017971262836e+20\n"
          ]
        }
      ],
      "source": [
        "# Calculate the variance of a numerical column\n",
        "variance = np.var(data['totalRevenue'])\n",
        "print(variance)"
      ]
    },
    {
      "cell_type": "code",
      "execution_count": null,
      "id": "cee3b2b0",
      "metadata": {
        "id": "cee3b2b0",
        "outputId": "33f007ff-ee84-45b8-fa29-543887b3a8d8"
      },
      "outputs": [
        {
          "name": "stdout",
          "output_type": "stream",
          "text": [
            "24766949693.61959\n"
          ]
        }
      ],
      "source": [
        "# Calculate the standard deviation of a numerical column\n",
        "std_dev = np.std(data['totalRevenue'])\n",
        "print(std_dev)"
      ]
    },
    {
      "cell_type": "code",
      "execution_count": null,
      "id": "e7efa92b",
      "metadata": {
        "id": "e7efa92b",
        "outputId": "30e08356-5d19-494a-82be-a11b59b45164"
      },
      "outputs": [
        {
          "name": "stdout",
          "output_type": "stream",
          "text": [
            "4.075370012826798\n"
          ]
        }
      ],
      "source": [
        "# Calculate the coefficient of variation of a numerical column\n",
        "coefficient_variation = std_dev / np.mean(data['totalRevenue'])\n",
        "print(coefficient_variation)"
      ]
    },
    {
      "cell_type": "code",
      "execution_count": null,
      "id": "82e55560",
      "metadata": {
        "id": "82e55560",
        "outputId": "edf9c463-d9ae-4899-e4b6-c6a487e79b58"
      },
      "outputs": [
        {
          "name": "stdout",
          "output_type": "stream",
          "text": [
            "1073954358.0\n"
          ]
        }
      ],
      "source": [
        "# Calculate the interquartile range of a numerical column\n",
        "Q1 = data['totalRevenue'].quantile(0.25)\n",
        "Q3 = data['totalRevenue'].quantile(0.75)\n",
        "IQR = Q3 - Q1\n",
        "print(IQR)"
      ]
    },
    {
      "cell_type": "code",
      "execution_count": null,
      "id": "7f54df65",
      "metadata": {
        "id": "7f54df65",
        "outputId": "3a2ea70c-d2a0-4bbc-ca3b-9906f0369c5c"
      },
      "outputs": [
        {
          "name": "stdout",
          "output_type": "stream",
          "text": [
            "8.216432865731463\n"
          ]
        }
      ],
      "source": [
        "#measures of position\n",
        "# Calculate the percentile rank of a value in a numerical column\n",
        "value = 100\n",
        "percentile_rank = stats.percentileofscore(data['totalRevenue'], value)\n",
        "print(percentile_rank)"
      ]
    },
    {
      "cell_type": "code",
      "execution_count": null,
      "id": "d9f9ab49",
      "metadata": {
        "id": "d9f9ab49",
        "outputId": "1403a1dd-0481-401c-974d-f500e12ea35f"
      },
      "outputs": [
        {
          "name": "stdout",
          "output_type": "stream",
          "text": [
            "-0.245130497083629\n"
          ]
        }
      ],
      "source": [
        "# Calculate the z-score of a value in a numerical column\n",
        "value = 100\n",
        "z_score = (value - data['totalRevenue'].mean()) / data['totalRevenue'].std()\n",
        "print(z_score)"
      ]
    },
    {
      "cell_type": "code",
      "execution_count": null,
      "id": "45194252",
      "metadata": {
        "id": "45194252",
        "outputId": "cee2c231-f210-4bbd-cc89-e2b852cde7ff"
      },
      "outputs": [
        {
          "name": "stdout",
          "output_type": "stream",
          "text": [
            "0      2\n",
            "1      2\n",
            "2      2\n",
            "3      2\n",
            "4      1\n",
            "      ..\n",
            "494    2\n",
            "495    2\n",
            "496    2\n",
            "497    1\n",
            "498    1\n",
            "Name: totalRevenue, Length: 499, dtype: int64\n"
          ]
        }
      ],
      "source": [
        "# Calculate the quartile rank of a value in a numerical column\n",
        "value = 100\n",
        "quartile_rank = pd.qcut(data['totalRevenue'], 4, labels=False)\n",
        "print(quartile_rank)"
      ]
    },
    {
      "cell_type": "code",
      "execution_count": null,
      "id": "ca430f10",
      "metadata": {
        "id": "ca430f10",
        "outputId": "8ec54424-e41d-4c28-d17a-4f56987c579c"
      },
      "outputs": [
        {
          "name": "stdout",
          "output_type": "stream",
          "text": [
            "0      7\n",
            "1      7\n",
            "2      7\n",
            "3      7\n",
            "4      4\n",
            "      ..\n",
            "494    5\n",
            "495    5\n",
            "496    5\n",
            "497    2\n",
            "498    2\n",
            "Name: totalRevenue, Length: 499, dtype: int64\n"
          ]
        }
      ],
      "source": [
        "# Calculate the decile rank of a value in a numerical column\n",
        "value = 100\n",
        "decile_rank = pd.qcut(data['totalRevenue'], 10, labels=False)\n",
        "print(decile_rank)"
      ]
    },
    {
      "cell_type": "code",
      "execution_count": null,
      "id": "d31c1410",
      "metadata": {
        "id": "d31c1410"
      },
      "outputs": [],
      "source": [
        "# Create a contingency table\n",
        "contingency_table = pd.crosstab(data['totalRevenue'], data['incomeTaxExpense'])\n",
        "print(contingency_table)"
      ]
    },
    {
      "cell_type": "code",
      "execution_count": null,
      "id": "dcc07472",
      "metadata": {
        "id": "dcc07472",
        "outputId": "2e22aa90-3728-44d3-bafe-4ede19590289"
      },
      "outputs": [
        {
          "data": {
            "image/png": "[encoded data removed]",
            "text/plain": [
              "<Figure size 640x480 with 1 Axes>"
            ]
          },
          "metadata": {},
          "output_type": "display_data"
        }
      ],
      "source": [
        "# Create a scatter plot\n",
        "plt.scatter(data['totalRevenue'], data['incomeTaxExpense'])\n",
        "plt.title('Scatter Plot')\n",
        "plt.xlabel('totalRevenue')\n",
        "plt.ylabel('incomeTaxExpense')\n",
        "plt.show()"
      ]
    },
    {
      "cell_type": "code",
      "execution_count": null,
      "id": "ab173a9c",
      "metadata": {
        "id": "ab173a9c"
      },
      "outputs": [],
      "source": [
        "\n",
        "# define the base figure (e.g. total revenue)\n",
        "base_figure = data['totalRevenue'].sum()\n",
        "\n"
      ]
    },
    {
      "cell_type": "code",
      "execution_count": null,
      "id": "ebde3e9d",
      "metadata": {
        "id": "ebde3e9d",
        "outputId": "d0090ec9-990a-4643-a423-35802d37874c"
      },
      "outputs": [
        {
          "name": "stdout",
          "output_type": "stream",
          "text": [
            "0      0.030600\n",
            "1      0.032064\n",
            "2      0.031871\n",
            "3      0.034541\n",
            "4      0.004726\n",
            "         ...   \n",
            "494    0.011694\n",
            "495    0.010871\n",
            "496    0.009866\n",
            "497    0.001611\n",
            "498    0.001863\n",
            "Name: totalRevenue, Length: 499, dtype: float64\n"
          ]
        }
      ],
      "source": [
        "vert=(data['totalRevenue']/base_figure)*100\n",
        "print(vert)\n",
        "\n"
      ]
    },
    {
      "cell_type": "code",
      "execution_count": null,
      "id": "b8a3909e",
      "metadata": {
        "id": "b8a3909e"
      },
      "outputs": [],
      "source": []
    },
    {
      "cell_type": "code",
      "execution_count": null,
      "id": "66817b3f",
      "metadata": {
        "id": "66817b3f"
      },
      "outputs": [],
      "source": []
    }
  ],
  "metadata": {
    "kernelspec": {
      "display_name": "Python 3 (ipykernel)",
      "language": "python",
      "name": "python3"
    },
    "language_info": {
      "codemirror_mode": {
        "name": "ipython",
        "version": 3
      },
      "file_extension": ".py",
      "mimetype": "text/x-python",
      "name": "python",
      "nbconvert_exporter": "python",
      "pygments_lexer": "ipython3",
      "version": "3.9.2"
    },
    "colab": {
      "provenance": []
    }
  },
  "nbformat": 4,
  "nbformat_minor": 5
}