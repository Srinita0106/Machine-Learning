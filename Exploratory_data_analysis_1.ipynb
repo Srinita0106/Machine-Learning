{
  "cells": [
    {
      "cell_type": "code",
      "execution_count": null,
      "id": "bfe1ddfc",
      "metadata": {
        "id": "bfe1ddfc"
      },
      "outputs": [],
      "source": [
        "import pandas as pd\n",
        "import numpy as np\n",
        "import seaborn as sns"
      ]
    },
    {
      "cell_type": "code",
      "execution_count": null,
      "id": "4e836cc3",
      "metadata": {
        "id": "4e836cc3"
      },
      "outputs": [],
      "source": [
        "data=pd.read_csv(\"C:/Users/CTS/Documents/Dataset/spotify.csv\")"
      ]
    },
    {
      "cell_type": "code",
      "execution_count": null,
      "id": "d9914f7a",
      "metadata": {
        "id": "d9914f7a",
        "outputId": "568fc184-208a-4a65-902a-fe1d1789d7b2"
      },
      "outputs": [
        {
          "data": {
            "text/html": [
              "<div>\n",
              "<style scoped>\n",
              "    .dataframe tbody tr th:only-of-type {\n",
              "        vertical-align: middle;\n",
              "    }\n",
              "\n",
              "    .dataframe tbody tr th {\n",
              "        vertical-align: top;\n",
              "    }\n",
              "\n",
              "    .dataframe thead th {\n",
              "        text-align: right;\n",
              "    }\n",
              "</style>\n",
              "<table border=\"1\" class=\"dataframe\">\n",
              "  <thead>\n",
              "    <tr style=\"text-align: right;\">\n",
              "      <th></th>\n",
              "      <th>Time_submitted</th>\n",
              "      <th>Review</th>\n",
              "      <th>Rating</th>\n",
              "      <th>Total_thumbsup</th>\n",
              "    </tr>\n",
              "  </thead>\n",
              "  <tbody>\n",
              "    <tr>\n",
              "      <th>0</th>\n",
              "      <td>7/9/2022 15:00</td>\n",
              "      <td>Great music service, the audio is high quality...</td>\n",
              "      <td>5</td>\n",
              "      <td>2.0</td>\n",
              "    </tr>\n",
              "    <tr>\n",
              "      <th>1</th>\n",
              "      <td>7/9/2022 14:21</td>\n",
              "      <td>Please ignore previous negative rating. This a...</td>\n",
              "      <td>5</td>\n",
              "      <td>1.0</td>\n",
              "    </tr>\n",
              "    <tr>\n",
              "      <th>2</th>\n",
              "      <td>7/9/2022 13:27</td>\n",
              "      <td>This pop-up \"Get the best Spotify experience o...</td>\n",
              "      <td>4</td>\n",
              "      <td>0.0</td>\n",
              "    </tr>\n",
              "    <tr>\n",
              "      <th>3</th>\n",
              "      <td>7/9/2022 13:26</td>\n",
              "      <td>Really buggy and terrible to use as of recently</td>\n",
              "      <td>1</td>\n",
              "      <td>1.0</td>\n",
              "    </tr>\n",
              "    <tr>\n",
              "      <th>4</th>\n",
              "      <td>7/9/2022 13:20</td>\n",
              "      <td>Dear Spotify why do I get songs that I didn't ...</td>\n",
              "      <td>1</td>\n",
              "      <td>1.0</td>\n",
              "    </tr>\n",
              "  </tbody>\n",
              "</table>\n",
              "</div>"
            ],
            "text/plain": [
              "   Time_submitted                                             Review  Rating  \\\n",
              "0  7/9/2022 15:00  Great music service, the audio is high quality...       5   \n",
              "1  7/9/2022 14:21  Please ignore previous negative rating. This a...       5   \n",
              "2  7/9/2022 13:27  This pop-up \"Get the best Spotify experience o...       4   \n",
              "3  7/9/2022 13:26    Really buggy and terrible to use as of recently       1   \n",
              "4  7/9/2022 13:20  Dear Spotify why do I get songs that I didn't ...       1   \n",
              "\n",
              "   Total_thumbsup  \n",
              "0             2.0  \n",
              "1             1.0  \n",
              "2             0.0  \n",
              "3             1.0  \n",
              "4             1.0  "
            ]
          },
          "execution_count": 4,
          "metadata": {},
          "output_type": "execute_result"
        }
      ],
      "source": [
        "#understanding data\n",
        "data.head()"
      ]
    },
    {
      "cell_type": "code",
      "execution_count": null,
      "id": "3d3e9b8a",
      "metadata": {
        "id": "3d3e9b8a",
        "outputId": "0a5b5426-ca72-4302-f3ff-633e770f30c0"
      },
      "outputs": [
        {
          "data": {
            "text/html": [
              "<div>\n",
              "<style scoped>\n",
              "    .dataframe tbody tr th:only-of-type {\n",
              "        vertical-align: middle;\n",
              "    }\n",
              "\n",
              "    .dataframe tbody tr th {\n",
              "        vertical-align: top;\n",
              "    }\n",
              "\n",
              "    .dataframe thead th {\n",
              "        text-align: right;\n",
              "    }\n",
              "</style>\n",
              "<table border=\"1\" class=\"dataframe\">\n",
              "  <thead>\n",
              "    <tr style=\"text-align: right;\">\n",
              "      <th></th>\n",
              "      <th>Time_submitted</th>\n",
              "      <th>Review</th>\n",
              "      <th>Rating</th>\n",
              "      <th>Total_thumbsup</th>\n",
              "    </tr>\n",
              "  </thead>\n",
              "  <tbody>\n",
              "    <tr>\n",
              "      <th>194</th>\n",
              "      <td>7/9/2022 2:52</td>\n",
              "      <td>Best aap to listen music</td>\n",
              "      <td>5</td>\n",
              "      <td>0.0</td>\n",
              "    </tr>\n",
              "    <tr>\n",
              "      <th>195</th>\n",
              "      <td>7/9/2022 2:48</td>\n",
              "      <td>Best Music Streaming App for Android and Ios. ...</td>\n",
              "      <td>5</td>\n",
              "      <td>0.0</td>\n",
              "    </tr>\n",
              "    <tr>\n",
              "      <th>196</th>\n",
              "      <td>7/9/2022 2:47</td>\n",
              "      <td>PREMIUM BUYERS: READ B4 U BUY Guys, the app's ...</td>\n",
              "      <td>3</td>\n",
              "      <td>0.0</td>\n",
              "    </tr>\n",
              "    <tr>\n",
              "      <th>197</th>\n",
              "      <td>7/9/2022 2:35</td>\n",
              "      <td>amazing app just a decent amount of adds</td>\n",
              "      <td>4</td>\n",
              "      <td>0.0</td>\n",
              "    </tr>\n",
              "    <tr>\n",
              "      <th>198</th>\n",
              "      <td>7/9/2022 2:35</td>\n",
              "      <td>Amazing and easy to use app, so good to use. 💜👀</td>\n",
              "      <td>5</td>\n",
              "      <td>0.0</td>\n",
              "    </tr>\n",
              "  </tbody>\n",
              "</table>\n",
              "</div>"
            ],
            "text/plain": [
              "    Time_submitted                                             Review  Rating  \\\n",
              "194  7/9/2022 2:52                           Best aap to listen music       5   \n",
              "195  7/9/2022 2:48  Best Music Streaming App for Android and Ios. ...       5   \n",
              "196  7/9/2022 2:47  PREMIUM BUYERS: READ B4 U BUY Guys, the app's ...       3   \n",
              "197  7/9/2022 2:35           amazing app just a decent amount of adds       4   \n",
              "198  7/9/2022 2:35    Amazing and easy to use app, so good to use. 💜👀       5   \n",
              "\n",
              "     Total_thumbsup  \n",
              "194             0.0  \n",
              "195             0.0  \n",
              "196             0.0  \n",
              "197             0.0  \n",
              "198             0.0  "
            ]
          },
          "execution_count": 5,
          "metadata": {},
          "output_type": "execute_result"
        }
      ],
      "source": [
        "data.tail()"
      ]
    },
    {
      "cell_type": "code",
      "execution_count": null,
      "id": "44e216a7",
      "metadata": {
        "id": "44e216a7",
        "outputId": "15c7606c-710f-4626-81ea-4b2d29341277"
      },
      "outputs": [
        {
          "data": {
            "text/html": [
              "<div>\n",
              "<style scoped>\n",
              "    .dataframe tbody tr th:only-of-type {\n",
              "        vertical-align: middle;\n",
              "    }\n",
              "\n",
              "    .dataframe tbody tr th {\n",
              "        vertical-align: top;\n",
              "    }\n",
              "\n",
              "    .dataframe thead th {\n",
              "        text-align: right;\n",
              "    }\n",
              "</style>\n",
              "<table border=\"1\" class=\"dataframe\">\n",
              "  <thead>\n",
              "    <tr style=\"text-align: right;\">\n",
              "      <th></th>\n",
              "      <th>Rating</th>\n",
              "      <th>Total_thumbsup</th>\n",
              "    </tr>\n",
              "  </thead>\n",
              "  <tbody>\n",
              "    <tr>\n",
              "      <th>count</th>\n",
              "      <td>199.000000</td>\n",
              "      <td>186.000000</td>\n",
              "    </tr>\n",
              "    <tr>\n",
              "      <th>mean</th>\n",
              "      <td>3.125628</td>\n",
              "      <td>3.005376</td>\n",
              "    </tr>\n",
              "    <tr>\n",
              "      <th>std</th>\n",
              "      <td>1.702433</td>\n",
              "      <td>25.115193</td>\n",
              "    </tr>\n",
              "    <tr>\n",
              "      <th>min</th>\n",
              "      <td>1.000000</td>\n",
              "      <td>0.000000</td>\n",
              "    </tr>\n",
              "    <tr>\n",
              "      <th>25%</th>\n",
              "      <td>1.000000</td>\n",
              "      <td>0.000000</td>\n",
              "    </tr>\n",
              "    <tr>\n",
              "      <th>50%</th>\n",
              "      <td>4.000000</td>\n",
              "      <td>0.000000</td>\n",
              "    </tr>\n",
              "    <tr>\n",
              "      <th>75%</th>\n",
              "      <td>5.000000</td>\n",
              "      <td>0.000000</td>\n",
              "    </tr>\n",
              "    <tr>\n",
              "      <th>max</th>\n",
              "      <td>5.000000</td>\n",
              "      <td>318.000000</td>\n",
              "    </tr>\n",
              "  </tbody>\n",
              "</table>\n",
              "</div>"
            ],
            "text/plain": [
              "           Rating  Total_thumbsup\n",
              "count  199.000000      186.000000\n",
              "mean     3.125628        3.005376\n",
              "std      1.702433       25.115193\n",
              "min      1.000000        0.000000\n",
              "25%      1.000000        0.000000\n",
              "50%      4.000000        0.000000\n",
              "75%      5.000000        0.000000\n",
              "max      5.000000      318.000000"
            ]
          },
          "execution_count": 6,
          "metadata": {},
          "output_type": "execute_result"
        }
      ],
      "source": [
        "data.describe()"
      ]
    },
    {
      "cell_type": "code",
      "execution_count": null,
      "id": "afa82e6f",
      "metadata": {
        "id": "afa82e6f",
        "outputId": "30b6447f-c318-4956-9f98-c46b9f884df3"
      },
      "outputs": [
        {
          "data": {
            "text/plain": [
              "(199, 4)"
            ]
          },
          "execution_count": 7,
          "metadata": {},
          "output_type": "execute_result"
        }
      ],
      "source": [
        "data.shape"
      ]
    },
    {
      "cell_type": "code",
      "execution_count": null,
      "id": "f9334b46",
      "metadata": {
        "id": "f9334b46",
        "outputId": "f85e760e-951c-4786-c088-689a2ceb4d44"
      },
      "outputs": [
        {
          "data": {
            "text/plain": [
              "Index(['Time_submitted', 'Review', 'Rating', 'Total_thumbsup'], dtype='object')"
            ]
          },
          "execution_count": 8,
          "metadata": {},
          "output_type": "execute_result"
        }
      ],
      "source": [
        "data.columns"
      ]
    },
    {
      "cell_type": "code",
      "execution_count": null,
      "id": "2cb60ded",
      "metadata": {
        "id": "2cb60ded",
        "outputId": "f98206b4-60d2-4779-de33-533789483b14"
      },
      "outputs": [
        {
          "data": {
            "text/plain": [
              "Time_submitted    173\n",
              "Review            199\n",
              "Rating              5\n",
              "Total_thumbsup     10\n",
              "dtype: int64"
            ]
          },
          "execution_count": 9,
          "metadata": {},
          "output_type": "execute_result"
        }
      ],
      "source": [
        "data.nunique()"
      ]
    },
    {
      "cell_type": "code",
      "execution_count": null,
      "id": "43410f8b",
      "metadata": {
        "id": "43410f8b",
        "outputId": "a1936f20-79d0-4b9d-b015-c30dca081962"
      },
      "outputs": [
        {
          "data": {
            "text/plain": [
              "array([5, 4, 1, 3, 2], dtype=int64)"
            ]
          },
          "execution_count": 10,
          "metadata": {},
          "output_type": "execute_result"
        }
      ],
      "source": [
        "data['Rating'].unique()"
      ]
    },
    {
      "cell_type": "code",
      "execution_count": null,
      "id": "0c520f3f",
      "metadata": {
        "id": "0c520f3f",
        "outputId": "e21147c1-61c1-410b-c5bd-7f0fff2a74ad"
      },
      "outputs": [
        {
          "data": {
            "text/plain": [
              "Time_submitted     0\n",
              "Review             0\n",
              "Rating             0\n",
              "Total_thumbsup    13\n",
              "dtype: int64"
            ]
          },
          "execution_count": 11,
          "metadata": {},
          "output_type": "execute_result"
        }
      ],
      "source": [
        "#cleaning data\n",
        "data.isnull().sum()"
      ]
    },
    {
      "cell_type": "code",
      "execution_count": null,
      "id": "bd297d15",
      "metadata": {
        "id": "bd297d15"
      },
      "outputs": [],
      "source": [
        "#df.fillna(df.mean(numeric_only=True).round(1), inplace=True)\n",
        "data.fillna(data.mean(numeric_only=True).round(1),inplace=True)"
      ]
    },
    {
      "cell_type": "code",
      "execution_count": null,
      "id": "d7876da8",
      "metadata": {
        "id": "d7876da8",
        "outputId": "9a21469e-da77-4c3a-ebdd-2cdad4fc6bdc"
      },
      "outputs": [
        {
          "name": "stdout",
          "output_type": "stream",
          "text": [
            "     Time_submitted                                             Review  \\\n",
            "0    7/9/2022 15:00  Great music service, the audio is high quality...   \n",
            "1    7/9/2022 14:21  Please ignore previous negative rating. This a...   \n",
            "2    7/9/2022 13:27  This pop-up \"Get the best Spotify experience o...   \n",
            "3    7/9/2022 13:26    Really buggy and terrible to use as of recently   \n",
            "4    7/9/2022 13:20  Dear Spotify why do I get songs that I didn't ...   \n",
            "..              ...                                                ...   \n",
            "194   7/9/2022 2:52                           Best aap to listen music   \n",
            "195   7/9/2022 2:48  Best Music Streaming App for Android and Ios. ...   \n",
            "196   7/9/2022 2:47  PREMIUM BUYERS: READ B4 U BUY Guys, the app's ...   \n",
            "197   7/9/2022 2:35           amazing app just a decent amount of adds   \n",
            "198   7/9/2022 2:35    Amazing and easy to use app, so good to use. 💜👀   \n",
            "\n",
            "     Rating  Total_thumbsup  \n",
            "0         5             2.0  \n",
            "1         5             1.0  \n",
            "2         4             0.0  \n",
            "3         1             1.0  \n",
            "4         1             1.0  \n",
            "..      ...             ...  \n",
            "194       5             0.0  \n",
            "195       5             0.0  \n",
            "196       3             0.0  \n",
            "197       4             0.0  \n",
            "198       5             0.0  \n",
            "\n",
            "[199 rows x 4 columns]\n"
          ]
        }
      ],
      "source": [
        "print(data)"
      ]
    },
    {
      "cell_type": "code",
      "execution_count": null,
      "id": "7df0b583",
      "metadata": {
        "id": "7df0b583",
        "outputId": "e36ef7d8-647f-410c-9b05-76a0f8f143ff"
      },
      "outputs": [
        {
          "data": {
            "text/html": [
              "<div>\n",
              "<style scoped>\n",
              "    .dataframe tbody tr th:only-of-type {\n",
              "        vertical-align: middle;\n",
              "    }\n",
              "\n",
              "    .dataframe tbody tr th {\n",
              "        vertical-align: top;\n",
              "    }\n",
              "\n",
              "    .dataframe thead th {\n",
              "        text-align: right;\n",
              "    }\n",
              "</style>\n",
              "<table border=\"1\" class=\"dataframe\">\n",
              "  <thead>\n",
              "    <tr style=\"text-align: right;\">\n",
              "      <th></th>\n",
              "      <th>Time_submitted</th>\n",
              "      <th>Review</th>\n",
              "      <th>Rating</th>\n",
              "      <th>Total_thumbsup</th>\n",
              "    </tr>\n",
              "  </thead>\n",
              "  <tbody>\n",
              "    <tr>\n",
              "      <th>0</th>\n",
              "      <td>7/9/2022 15:00</td>\n",
              "      <td>Great music service, the audio is high quality...</td>\n",
              "      <td>5</td>\n",
              "      <td>2.0</td>\n",
              "    </tr>\n",
              "    <tr>\n",
              "      <th>1</th>\n",
              "      <td>7/9/2022 14:21</td>\n",
              "      <td>Please ignore previous negative rating. This a...</td>\n",
              "      <td>5</td>\n",
              "      <td>1.0</td>\n",
              "    </tr>\n",
              "    <tr>\n",
              "      <th>2</th>\n",
              "      <td>7/9/2022 13:27</td>\n",
              "      <td>This pop-up \"Get the best Spotify experience o...</td>\n",
              "      <td>4</td>\n",
              "      <td>0.0</td>\n",
              "    </tr>\n",
              "    <tr>\n",
              "      <th>3</th>\n",
              "      <td>7/9/2022 13:26</td>\n",
              "      <td>Really buggy and terrible to use as of recently</td>\n",
              "      <td>1</td>\n",
              "      <td>1.0</td>\n",
              "    </tr>\n",
              "    <tr>\n",
              "      <th>4</th>\n",
              "      <td>7/9/2022 13:20</td>\n",
              "      <td>Dear Spotify why do I get songs that I didn't ...</td>\n",
              "      <td>1</td>\n",
              "      <td>1.0</td>\n",
              "    </tr>\n",
              "    <tr>\n",
              "      <th>...</th>\n",
              "      <td>...</td>\n",
              "      <td>...</td>\n",
              "      <td>...</td>\n",
              "      <td>...</td>\n",
              "    </tr>\n",
              "    <tr>\n",
              "      <th>194</th>\n",
              "      <td>7/9/2022 2:52</td>\n",
              "      <td>Best aap to listen music</td>\n",
              "      <td>5</td>\n",
              "      <td>0.0</td>\n",
              "    </tr>\n",
              "    <tr>\n",
              "      <th>195</th>\n",
              "      <td>7/9/2022 2:48</td>\n",
              "      <td>Best Music Streaming App for Android and Ios. ...</td>\n",
              "      <td>5</td>\n",
              "      <td>0.0</td>\n",
              "    </tr>\n",
              "    <tr>\n",
              "      <th>196</th>\n",
              "      <td>7/9/2022 2:47</td>\n",
              "      <td>PREMIUM BUYERS: READ B4 U BUY Guys, the app's ...</td>\n",
              "      <td>3</td>\n",
              "      <td>0.0</td>\n",
              "    </tr>\n",
              "    <tr>\n",
              "      <th>197</th>\n",
              "      <td>7/9/2022 2:35</td>\n",
              "      <td>amazing app just a decent amount of adds</td>\n",
              "      <td>4</td>\n",
              "      <td>0.0</td>\n",
              "    </tr>\n",
              "    <tr>\n",
              "      <th>198</th>\n",
              "      <td>7/9/2022 2:35</td>\n",
              "      <td>Amazing and easy to use app, so good to use. 💜👀</td>\n",
              "      <td>5</td>\n",
              "      <td>0.0</td>\n",
              "    </tr>\n",
              "  </tbody>\n",
              "</table>\n",
              "<p>199 rows × 4 columns</p>\n",
              "</div>"
            ],
            "text/plain": [
              "     Time_submitted                                             Review  \\\n",
              "0    7/9/2022 15:00  Great music service, the audio is high quality...   \n",
              "1    7/9/2022 14:21  Please ignore previous negative rating. This a...   \n",
              "2    7/9/2022 13:27  This pop-up \"Get the best Spotify experience o...   \n",
              "3    7/9/2022 13:26    Really buggy and terrible to use as of recently   \n",
              "4    7/9/2022 13:20  Dear Spotify why do I get songs that I didn't ...   \n",
              "..              ...                                                ...   \n",
              "194   7/9/2022 2:52                           Best aap to listen music   \n",
              "195   7/9/2022 2:48  Best Music Streaming App for Android and Ios. ...   \n",
              "196   7/9/2022 2:47  PREMIUM BUYERS: READ B4 U BUY Guys, the app's ...   \n",
              "197   7/9/2022 2:35           amazing app just a decent amount of adds   \n",
              "198   7/9/2022 2:35    Amazing and easy to use app, so good to use. 💜👀   \n",
              "\n",
              "     Rating  Total_thumbsup  \n",
              "0         5             2.0  \n",
              "1         5             1.0  \n",
              "2         4             0.0  \n",
              "3         1             1.0  \n",
              "4         1             1.0  \n",
              "..      ...             ...  \n",
              "194       5             0.0  \n",
              "195       5             0.0  \n",
              "196       3             0.0  \n",
              "197       4             0.0  \n",
              "198       5             0.0  \n",
              "\n",
              "[199 rows x 4 columns]"
            ]
          },
          "execution_count": 15,
          "metadata": {},
          "output_type": "execute_result"
        }
      ],
      "source": [
        "data"
      ]
    },
    {
      "cell_type": "code",
      "execution_count": null,
      "id": "5c5068d7",
      "metadata": {
        "id": "5c5068d7",
        "outputId": "3c7bdd9d-6077-45cc-ba11-8fbbb2d2b132"
      },
      "outputs": [
        {
          "data": {
            "text/html": [
              "<div>\n",
              "<style scoped>\n",
              "    .dataframe tbody tr th:only-of-type {\n",
              "        vertical-align: middle;\n",
              "    }\n",
              "\n",
              "    .dataframe tbody tr th {\n",
              "        vertical-align: top;\n",
              "    }\n",
              "\n",
              "    .dataframe thead th {\n",
              "        text-align: right;\n",
              "    }\n",
              "</style>\n",
              "<table border=\"1\" class=\"dataframe\">\n",
              "  <thead>\n",
              "    <tr style=\"text-align: right;\">\n",
              "      <th></th>\n",
              "      <th>Time_submitted</th>\n",
              "      <th>Review</th>\n",
              "      <th>Rating</th>\n",
              "      <th>Total_thumbsup</th>\n",
              "    </tr>\n",
              "  </thead>\n",
              "  <tbody>\n",
              "    <tr>\n",
              "      <th>0</th>\n",
              "      <td>7/9/2022 15:00</td>\n",
              "      <td>Great music service, the audio is high quality...</td>\n",
              "      <td>5</td>\n",
              "      <td>2.0</td>\n",
              "    </tr>\n",
              "    <tr>\n",
              "      <th>1</th>\n",
              "      <td>7/9/2022 14:21</td>\n",
              "      <td>Please ignore previous negative rating. This a...</td>\n",
              "      <td>5</td>\n",
              "      <td>1.0</td>\n",
              "    </tr>\n",
              "    <tr>\n",
              "      <th>2</th>\n",
              "      <td>7/9/2022 13:27</td>\n",
              "      <td>This pop-up \"Get the best Spotify experience o...</td>\n",
              "      <td>4</td>\n",
              "      <td>0.0</td>\n",
              "    </tr>\n",
              "    <tr>\n",
              "      <th>3</th>\n",
              "      <td>7/9/2022 13:26</td>\n",
              "      <td>Really buggy and terrible to use as of recently</td>\n",
              "      <td>1</td>\n",
              "      <td>1.0</td>\n",
              "    </tr>\n",
              "    <tr>\n",
              "      <th>4</th>\n",
              "      <td>7/9/2022 13:20</td>\n",
              "      <td>Dear Spotify why do I get songs that I didn't ...</td>\n",
              "      <td>1</td>\n",
              "      <td>1.0</td>\n",
              "    </tr>\n",
              "    <tr>\n",
              "      <th>5</th>\n",
              "      <td>7/9/2022 13:20</td>\n",
              "      <td>The player controls sometimes disappear for no...</td>\n",
              "      <td>3</td>\n",
              "      <td>7.0</td>\n",
              "    </tr>\n",
              "    <tr>\n",
              "      <th>6</th>\n",
              "      <td>7/9/2022 13:19</td>\n",
              "      <td>I love the selection and the lyrics are provid...</td>\n",
              "      <td>5</td>\n",
              "      <td>0.0</td>\n",
              "    </tr>\n",
              "    <tr>\n",
              "      <th>7</th>\n",
              "      <td>7/9/2022 13:17</td>\n",
              "      <td>Still extremely slow when changing storage to ...</td>\n",
              "      <td>3</td>\n",
              "      <td>16.0</td>\n",
              "    </tr>\n",
              "    <tr>\n",
              "      <th>8</th>\n",
              "      <td>7/9/2022 13:16</td>\n",
              "      <td>It's a great app and the best mp3 music app I ...</td>\n",
              "      <td>5</td>\n",
              "      <td>3.0</td>\n",
              "    </tr>\n",
              "    <tr>\n",
              "      <th>9</th>\n",
              "      <td>7/9/2022 13:11</td>\n",
              "      <td>I'm deleting this app, for the following reaso...</td>\n",
              "      <td>1</td>\n",
              "      <td>318.0</td>\n",
              "    </tr>\n",
              "    <tr>\n",
              "      <th>10</th>\n",
              "      <td>7/9/2022 13:11</td>\n",
              "      <td>Love Spotify, and usually this app is the best...</td>\n",
              "      <td>2</td>\n",
              "      <td>1.0</td>\n",
              "    </tr>\n",
              "    <tr>\n",
              "      <th>11</th>\n",
              "      <td>7/9/2022 13:10</td>\n",
              "      <td>Can't play Spotify when on WiFi</td>\n",
              "      <td>1</td>\n",
              "      <td>1.0</td>\n",
              "    </tr>\n",
              "    <tr>\n",
              "      <th>12</th>\n",
              "      <td>7/9/2022 13:09</td>\n",
              "      <td>I had amazon premium music family package and ...</td>\n",
              "      <td>1</td>\n",
              "      <td>7.0</td>\n",
              "    </tr>\n",
              "    <tr>\n",
              "      <th>13</th>\n",
              "      <td>7/9/2022 13:09</td>\n",
              "      <td>Worst app always says I'm offline and never sh...</td>\n",
              "      <td>1</td>\n",
              "      <td>1.0</td>\n",
              "    </tr>\n",
              "    <tr>\n",
              "      <th>14</th>\n",
              "      <td>7/9/2022 13:08</td>\n",
              "      <td>i hav any music that i like it is super🙌</td>\n",
              "      <td>5</td>\n",
              "      <td>0.0</td>\n",
              "    </tr>\n",
              "    <tr>\n",
              "      <th>15</th>\n",
              "      <td>7/9/2022 13:05</td>\n",
              "      <td>Improve the IA to recommend songs and to find ...</td>\n",
              "      <td>5</td>\n",
              "      <td>0.0</td>\n",
              "    </tr>\n",
              "    <tr>\n",
              "      <th>16</th>\n",
              "      <td>7/9/2022 13:00</td>\n",
              "      <td>Android user - there are loads of glitches wit...</td>\n",
              "      <td>2</td>\n",
              "      <td>0.0</td>\n",
              "    </tr>\n",
              "    <tr>\n",
              "      <th>17</th>\n",
              "      <td>7/9/2022 13:00</td>\n",
              "      <td>I can't listen to my DOWNLOADED playlist while...</td>\n",
              "      <td>3</td>\n",
              "      <td>0.0</td>\n",
              "    </tr>\n",
              "    <tr>\n",
              "      <th>18</th>\n",
              "      <td>7/9/2022 12:58</td>\n",
              "      <td>It always crashing down; unable to play and ju...</td>\n",
              "      <td>1</td>\n",
              "      <td>0.0</td>\n",
              "    </tr>\n",
              "    <tr>\n",
              "      <th>19</th>\n",
              "      <td>7/9/2022 12:58</td>\n",
              "      <td>I know ads are the cost to free use And yes th...</td>\n",
              "      <td>1</td>\n",
              "      <td>0.0</td>\n",
              "    </tr>\n",
              "  </tbody>\n",
              "</table>\n",
              "</div>"
            ],
            "text/plain": [
              "    Time_submitted                                             Review  Rating  \\\n",
              "0   7/9/2022 15:00  Great music service, the audio is high quality...       5   \n",
              "1   7/9/2022 14:21  Please ignore previous negative rating. This a...       5   \n",
              "2   7/9/2022 13:27  This pop-up \"Get the best Spotify experience o...       4   \n",
              "3   7/9/2022 13:26    Really buggy and terrible to use as of recently       1   \n",
              "4   7/9/2022 13:20  Dear Spotify why do I get songs that I didn't ...       1   \n",
              "5   7/9/2022 13:20  The player controls sometimes disappear for no...       3   \n",
              "6   7/9/2022 13:19  I love the selection and the lyrics are provid...       5   \n",
              "7   7/9/2022 13:17  Still extremely slow when changing storage to ...       3   \n",
              "8   7/9/2022 13:16  It's a great app and the best mp3 music app I ...       5   \n",
              "9   7/9/2022 13:11  I'm deleting this app, for the following reaso...       1   \n",
              "10  7/9/2022 13:11  Love Spotify, and usually this app is the best...       2   \n",
              "11  7/9/2022 13:10                    Can't play Spotify when on WiFi       1   \n",
              "12  7/9/2022 13:09  I had amazon premium music family package and ...       1   \n",
              "13  7/9/2022 13:09  Worst app always says I'm offline and never sh...       1   \n",
              "14  7/9/2022 13:08           i hav any music that i like it is super🙌       5   \n",
              "15  7/9/2022 13:05  Improve the IA to recommend songs and to find ...       5   \n",
              "16  7/9/2022 13:00  Android user - there are loads of glitches wit...       2   \n",
              "17  7/9/2022 13:00  I can't listen to my DOWNLOADED playlist while...       3   \n",
              "18  7/9/2022 12:58  It always crashing down; unable to play and ju...       1   \n",
              "19  7/9/2022 12:58  I know ads are the cost to free use And yes th...       1   \n",
              "\n",
              "    Total_thumbsup  \n",
              "0              2.0  \n",
              "1              1.0  \n",
              "2              0.0  \n",
              "3              1.0  \n",
              "4              1.0  \n",
              "5              7.0  \n",
              "6              0.0  \n",
              "7             16.0  \n",
              "8              3.0  \n",
              "9            318.0  \n",
              "10             1.0  \n",
              "11             1.0  \n",
              "12             7.0  \n",
              "13             1.0  \n",
              "14             0.0  \n",
              "15             0.0  \n",
              "16             0.0  \n",
              "17             0.0  \n",
              "18             0.0  \n",
              "19             0.0  "
            ]
          },
          "execution_count": 16,
          "metadata": {},
          "output_type": "execute_result"
        }
      ],
      "source": [
        "data.head(20)"
      ]
    },
    {
      "cell_type": "code",
      "execution_count": null,
      "id": "a937a2cd",
      "metadata": {
        "id": "a937a2cd"
      },
      "outputs": [],
      "source": [
        "#df.fillna(df.median(numeric_only=True).round(1), inplace=True)\n",
        "data.fillna(data.median(numeric_only=True).round(1),inplace=True)"
      ]
    },
    {
      "cell_type": "code",
      "execution_count": null,
      "id": "cc6f7813",
      "metadata": {
        "id": "cc6f7813",
        "outputId": "fb3f6418-35ba-4856-f8f2-1fec9f2d823a"
      },
      "outputs": [
        {
          "data": {
            "text/html": [
              "<div>\n",
              "<style scoped>\n",
              "    .dataframe tbody tr th:only-of-type {\n",
              "        vertical-align: middle;\n",
              "    }\n",
              "\n",
              "    .dataframe tbody tr th {\n",
              "        vertical-align: top;\n",
              "    }\n",
              "\n",
              "    .dataframe thead th {\n",
              "        text-align: right;\n",
              "    }\n",
              "</style>\n",
              "<table border=\"1\" class=\"dataframe\">\n",
              "  <thead>\n",
              "    <tr style=\"text-align: right;\">\n",
              "      <th></th>\n",
              "      <th>Time_submitted</th>\n",
              "      <th>Review</th>\n",
              "      <th>Rating</th>\n",
              "      <th>Total_thumbsup</th>\n",
              "    </tr>\n",
              "  </thead>\n",
              "  <tbody>\n",
              "    <tr>\n",
              "      <th>0</th>\n",
              "      <td>7/9/2022 15:00</td>\n",
              "      <td>Great music service, the audio is high quality...</td>\n",
              "      <td>5</td>\n",
              "      <td>2.0</td>\n",
              "    </tr>\n",
              "    <tr>\n",
              "      <th>1</th>\n",
              "      <td>7/9/2022 14:21</td>\n",
              "      <td>Please ignore previous negative rating. This a...</td>\n",
              "      <td>5</td>\n",
              "      <td>1.0</td>\n",
              "    </tr>\n",
              "    <tr>\n",
              "      <th>2</th>\n",
              "      <td>7/9/2022 13:27</td>\n",
              "      <td>This pop-up \"Get the best Spotify experience o...</td>\n",
              "      <td>4</td>\n",
              "      <td>0.0</td>\n",
              "    </tr>\n",
              "    <tr>\n",
              "      <th>3</th>\n",
              "      <td>7/9/2022 13:26</td>\n",
              "      <td>Really buggy and terrible to use as of recently</td>\n",
              "      <td>1</td>\n",
              "      <td>1.0</td>\n",
              "    </tr>\n",
              "    <tr>\n",
              "      <th>4</th>\n",
              "      <td>7/9/2022 13:20</td>\n",
              "      <td>Dear Spotify why do I get songs that I didn't ...</td>\n",
              "      <td>1</td>\n",
              "      <td>1.0</td>\n",
              "    </tr>\n",
              "    <tr>\n",
              "      <th>5</th>\n",
              "      <td>7/9/2022 13:20</td>\n",
              "      <td>The player controls sometimes disappear for no...</td>\n",
              "      <td>3</td>\n",
              "      <td>7.0</td>\n",
              "    </tr>\n",
              "    <tr>\n",
              "      <th>6</th>\n",
              "      <td>7/9/2022 13:19</td>\n",
              "      <td>I love the selection and the lyrics are provid...</td>\n",
              "      <td>5</td>\n",
              "      <td>0.0</td>\n",
              "    </tr>\n",
              "    <tr>\n",
              "      <th>7</th>\n",
              "      <td>7/9/2022 13:17</td>\n",
              "      <td>Still extremely slow when changing storage to ...</td>\n",
              "      <td>3</td>\n",
              "      <td>16.0</td>\n",
              "    </tr>\n",
              "    <tr>\n",
              "      <th>8</th>\n",
              "      <td>7/9/2022 13:16</td>\n",
              "      <td>It's a great app and the best mp3 music app I ...</td>\n",
              "      <td>5</td>\n",
              "      <td>3.0</td>\n",
              "    </tr>\n",
              "    <tr>\n",
              "      <th>9</th>\n",
              "      <td>7/9/2022 13:11</td>\n",
              "      <td>I'm deleting this app, for the following reaso...</td>\n",
              "      <td>1</td>\n",
              "      <td>318.0</td>\n",
              "    </tr>\n",
              "    <tr>\n",
              "      <th>10</th>\n",
              "      <td>7/9/2022 13:11</td>\n",
              "      <td>Love Spotify, and usually this app is the best...</td>\n",
              "      <td>2</td>\n",
              "      <td>1.0</td>\n",
              "    </tr>\n",
              "    <tr>\n",
              "      <th>11</th>\n",
              "      <td>7/9/2022 13:10</td>\n",
              "      <td>Can't play Spotify when on WiFi</td>\n",
              "      <td>1</td>\n",
              "      <td>1.0</td>\n",
              "    </tr>\n",
              "    <tr>\n",
              "      <th>12</th>\n",
              "      <td>7/9/2022 13:09</td>\n",
              "      <td>I had amazon premium music family package and ...</td>\n",
              "      <td>1</td>\n",
              "      <td>7.0</td>\n",
              "    </tr>\n",
              "    <tr>\n",
              "      <th>13</th>\n",
              "      <td>7/9/2022 13:09</td>\n",
              "      <td>Worst app always says I'm offline and never sh...</td>\n",
              "      <td>1</td>\n",
              "      <td>1.0</td>\n",
              "    </tr>\n",
              "    <tr>\n",
              "      <th>14</th>\n",
              "      <td>7/9/2022 13:08</td>\n",
              "      <td>i hav any music that i like it is super🙌</td>\n",
              "      <td>5</td>\n",
              "      <td>0.0</td>\n",
              "    </tr>\n",
              "    <tr>\n",
              "      <th>15</th>\n",
              "      <td>7/9/2022 13:05</td>\n",
              "      <td>Improve the IA to recommend songs and to find ...</td>\n",
              "      <td>5</td>\n",
              "      <td>0.0</td>\n",
              "    </tr>\n",
              "    <tr>\n",
              "      <th>16</th>\n",
              "      <td>7/9/2022 13:00</td>\n",
              "      <td>Android user - there are loads of glitches wit...</td>\n",
              "      <td>2</td>\n",
              "      <td>0.0</td>\n",
              "    </tr>\n",
              "    <tr>\n",
              "      <th>17</th>\n",
              "      <td>7/9/2022 13:00</td>\n",
              "      <td>I can't listen to my DOWNLOADED playlist while...</td>\n",
              "      <td>3</td>\n",
              "      <td>0.0</td>\n",
              "    </tr>\n",
              "    <tr>\n",
              "      <th>18</th>\n",
              "      <td>7/9/2022 12:58</td>\n",
              "      <td>It always crashing down; unable to play and ju...</td>\n",
              "      <td>1</td>\n",
              "      <td>0.0</td>\n",
              "    </tr>\n",
              "    <tr>\n",
              "      <th>19</th>\n",
              "      <td>7/9/2022 12:58</td>\n",
              "      <td>I know ads are the cost to free use And yes th...</td>\n",
              "      <td>1</td>\n",
              "      <td>0.0</td>\n",
              "    </tr>\n",
              "  </tbody>\n",
              "</table>\n",
              "</div>"
            ],
            "text/plain": [
              "    Time_submitted                                             Review  Rating  \\\n",
              "0   7/9/2022 15:00  Great music service, the audio is high quality...       5   \n",
              "1   7/9/2022 14:21  Please ignore previous negative rating. This a...       5   \n",
              "2   7/9/2022 13:27  This pop-up \"Get the best Spotify experience o...       4   \n",
              "3   7/9/2022 13:26    Really buggy and terrible to use as of recently       1   \n",
              "4   7/9/2022 13:20  Dear Spotify why do I get songs that I didn't ...       1   \n",
              "5   7/9/2022 13:20  The player controls sometimes disappear for no...       3   \n",
              "6   7/9/2022 13:19  I love the selection and the lyrics are provid...       5   \n",
              "7   7/9/2022 13:17  Still extremely slow when changing storage to ...       3   \n",
              "8   7/9/2022 13:16  It's a great app and the best mp3 music app I ...       5   \n",
              "9   7/9/2022 13:11  I'm deleting this app, for the following reaso...       1   \n",
              "10  7/9/2022 13:11  Love Spotify, and usually this app is the best...       2   \n",
              "11  7/9/2022 13:10                    Can't play Spotify when on WiFi       1   \n",
              "12  7/9/2022 13:09  I had amazon premium music family package and ...       1   \n",
              "13  7/9/2022 13:09  Worst app always says I'm offline and never sh...       1   \n",
              "14  7/9/2022 13:08           i hav any music that i like it is super🙌       5   \n",
              "15  7/9/2022 13:05  Improve the IA to recommend songs and to find ...       5   \n",
              "16  7/9/2022 13:00  Android user - there are loads of glitches wit...       2   \n",
              "17  7/9/2022 13:00  I can't listen to my DOWNLOADED playlist while...       3   \n",
              "18  7/9/2022 12:58  It always crashing down; unable to play and ju...       1   \n",
              "19  7/9/2022 12:58  I know ads are the cost to free use And yes th...       1   \n",
              "\n",
              "    Total_thumbsup  \n",
              "0              2.0  \n",
              "1              1.0  \n",
              "2              0.0  \n",
              "3              1.0  \n",
              "4              1.0  \n",
              "5              7.0  \n",
              "6              0.0  \n",
              "7             16.0  \n",
              "8              3.0  \n",
              "9            318.0  \n",
              "10             1.0  \n",
              "11             1.0  \n",
              "12             7.0  \n",
              "13             1.0  \n",
              "14             0.0  \n",
              "15             0.0  \n",
              "16             0.0  \n",
              "17             0.0  \n",
              "18             0.0  \n",
              "19             0.0  "
            ]
          },
          "execution_count": 18,
          "metadata": {},
          "output_type": "execute_result"
        }
      ],
      "source": [
        "data.head(20)"
      ]
    },
    {
      "cell_type": "code",
      "execution_count": null,
      "id": "51933f9a",
      "metadata": {
        "id": "51933f9a",
        "outputId": "05cca1cf-0a3a-4a1f-8791-6471e6b39f90"
      },
      "outputs": [
        {
          "data": {
            "text/html": [
              "<div>\n",
              "<style scoped>\n",
              "    .dataframe tbody tr th:only-of-type {\n",
              "        vertical-align: middle;\n",
              "    }\n",
              "\n",
              "    .dataframe tbody tr th {\n",
              "        vertical-align: top;\n",
              "    }\n",
              "\n",
              "    .dataframe thead th {\n",
              "        text-align: right;\n",
              "    }\n",
              "</style>\n",
              "<table border=\"1\" class=\"dataframe\">\n",
              "  <thead>\n",
              "    <tr style=\"text-align: right;\">\n",
              "      <th></th>\n",
              "      <th>Rating</th>\n",
              "      <th>Total_thumbsup</th>\n",
              "    </tr>\n",
              "  </thead>\n",
              "  <tbody>\n",
              "    <tr>\n",
              "      <th>count</th>\n",
              "      <td>199.000000</td>\n",
              "      <td>199.000000</td>\n",
              "    </tr>\n",
              "    <tr>\n",
              "      <th>mean</th>\n",
              "      <td>3.125628</td>\n",
              "      <td>3.005025</td>\n",
              "    </tr>\n",
              "    <tr>\n",
              "      <th>std</th>\n",
              "      <td>1.702433</td>\n",
              "      <td>24.276708</td>\n",
              "    </tr>\n",
              "    <tr>\n",
              "      <th>min</th>\n",
              "      <td>1.000000</td>\n",
              "      <td>0.000000</td>\n",
              "    </tr>\n",
              "    <tr>\n",
              "      <th>25%</th>\n",
              "      <td>1.000000</td>\n",
              "      <td>0.000000</td>\n",
              "    </tr>\n",
              "    <tr>\n",
              "      <th>50%</th>\n",
              "      <td>4.000000</td>\n",
              "      <td>0.000000</td>\n",
              "    </tr>\n",
              "    <tr>\n",
              "      <th>75%</th>\n",
              "      <td>5.000000</td>\n",
              "      <td>0.000000</td>\n",
              "    </tr>\n",
              "    <tr>\n",
              "      <th>max</th>\n",
              "      <td>5.000000</td>\n",
              "      <td>318.000000</td>\n",
              "    </tr>\n",
              "  </tbody>\n",
              "</table>\n",
              "</div>"
            ],
            "text/plain": [
              "           Rating  Total_thumbsup\n",
              "count  199.000000      199.000000\n",
              "mean     3.125628        3.005025\n",
              "std      1.702433       24.276708\n",
              "min      1.000000        0.000000\n",
              "25%      1.000000        0.000000\n",
              "50%      4.000000        0.000000\n",
              "75%      5.000000        0.000000\n",
              "max      5.000000      318.000000"
            ]
          },
          "execution_count": 19,
          "metadata": {},
          "output_type": "execute_result"
        }
      ],
      "source": [
        "data.describe()"
      ]
    },
    {
      "cell_type": "code",
      "execution_count": null,
      "id": "6363e751",
      "metadata": {
        "id": "6363e751",
        "outputId": "ef422d13-4af8-4f9f-bea3-b37fcc5efc41"
      },
      "outputs": [
        {
          "data": {
            "text/plain": [
              "(1.0, 5.0)"
            ]
          },
          "execution_count": 22,
          "metadata": {},
          "output_type": "execute_result"
        }
      ],
      "source": [
        "Q1=data.Rating.quantile(0.25)\n",
        "Q3=data.Rating.quantile(0.75)\n",
        "Q1,Q3"
      ]
    },
    {
      "cell_type": "code",
      "execution_count": null,
      "id": "0202b93b",
      "metadata": {
        "id": "0202b93b",
        "outputId": "68c3caa9-94e7-4d29-d363-56f81553aada"
      },
      "outputs": [
        {
          "data": {
            "text/plain": [
              "4.0"
            ]
          },
          "execution_count": 23,
          "metadata": {},
          "output_type": "execute_result"
        }
      ],
      "source": [
        "IQR=Q3 - Q1\n",
        "IQR"
      ]
    },
    {
      "cell_type": "code",
      "execution_count": null,
      "id": "d75bdaf8",
      "metadata": {
        "id": "d75bdaf8",
        "outputId": "758384fb-5d58-4450-fad7-d8a526e36932"
      },
      "outputs": [
        {
          "data": {
            "text/plain": [
              "(-5.0, 11.0)"
            ]
          },
          "execution_count": 24,
          "metadata": {},
          "output_type": "execute_result"
        }
      ],
      "source": [
        "lower=Q1-1.5*IQR\n",
        "upper=Q3+1.5*IQR\n",
        "lower,upper"
      ]
    },
    {
      "cell_type": "code",
      "execution_count": null,
      "id": "fc268694",
      "metadata": {
        "id": "fc268694",
        "outputId": "a70800f6-bf45-455a-c82e-1b66280482dc"
      },
      "outputs": [
        {
          "data": {
            "text/html": [
              "<div>\n",
              "<style scoped>\n",
              "    .dataframe tbody tr th:only-of-type {\n",
              "        vertical-align: middle;\n",
              "    }\n",
              "\n",
              "    .dataframe tbody tr th {\n",
              "        vertical-align: top;\n",
              "    }\n",
              "\n",
              "    .dataframe thead th {\n",
              "        text-align: right;\n",
              "    }\n",
              "</style>\n",
              "<table border=\"1\" class=\"dataframe\">\n",
              "  <thead>\n",
              "    <tr style=\"text-align: right;\">\n",
              "      <th></th>\n",
              "      <th>Time_submitted</th>\n",
              "      <th>Review</th>\n",
              "      <th>Rating</th>\n",
              "      <th>Total_thumbsup</th>\n",
              "    </tr>\n",
              "  </thead>\n",
              "  <tbody>\n",
              "  </tbody>\n",
              "</table>\n",
              "</div>"
            ],
            "text/plain": [
              "Empty DataFrame\n",
              "Columns: [Time_submitted, Review, Rating, Total_thumbsup]\n",
              "Index: []"
            ]
          },
          "execution_count": 25,
          "metadata": {},
          "output_type": "execute_result"
        }
      ],
      "source": [
        "data[(data.Rating<lower)|(data.Rating>upper)]"
      ]
    },
    {
      "cell_type": "code",
      "execution_count": null,
      "id": "47df5356",
      "metadata": {
        "id": "47df5356",
        "outputId": "0e549e10-f5f4-4ebb-ac87-5384a32c8ca6"
      },
      "outputs": [
        {
          "data": {
            "text/plain": [
              "<Axes: title={'center': 'Rating'}, xlabel='Total_thumbsup'>"
            ]
          },
          "execution_count": 28,
          "metadata": {},
          "output_type": "execute_result"
        },
        {
          "data": {
            "image/png": "[encoded data removed]",
            "text/plain": [
              "<Figure size 640x480 with 1 Axes>"
            ]
          },
          "metadata": {},
          "output_type": "display_data"
        }
      ],
      "source": [
        "data.boxplot(column='Rating',by='Total_thumbsup')"
      ]
    },
    {
      "cell_type": "code",
      "execution_count": null,
      "id": "492d8e19",
      "metadata": {
        "id": "492d8e19",
        "outputId": "07555b04-5aa7-485a-e9e8-ab5c426be38f"
      },
      "outputs": [
        {
          "name": "stderr",
          "output_type": "stream",
          "text": [
            "C:\\Users\\CTS\\AppData\\Local\\Temp\\ipykernel_13584\\2798980409.py:2: UserWarning: \n",
            "\n",
            "`distplot` is a deprecated function and will be removed in seaborn v0.14.0.\n",
            "\n",
            "Please adapt your code to use either `displot` (a figure-level function with\n",
            "similar flexibility) or `histplot` (an axes-level function for histograms).\n",
            "\n",
            "For a guide to updating your code to use the new functions, please see\n",
            "https://gist.github.com/mwaskom/de44147ed2974457ad6372750bbe5751\n",
            "\n",
            "  sns.distplot(data['Rating'])\n"
          ]
        },
        {
          "data": {
            "text/plain": [
              "<Axes: xlabel='Rating', ylabel='Density'>"
            ]
          },
          "execution_count": 29,
          "metadata": {},
          "output_type": "execute_result"
        },
        {
          "data": {
            "image/png": "[encoded data removed]",
            "text/plain": [
              "<Figure size 640x480 with 1 Axes>"
            ]
          },
          "metadata": {},
          "output_type": "display_data"
        }
      ],
      "source": [
        "#displot is used to show distribution of univariate set of observations\n",
        "sns.distplot(data['Rating'])"
      ]
    },
    {
      "cell_type": "code",
      "execution_count": null,
      "id": "1e718ba2",
      "metadata": {
        "id": "1e718ba2",
        "outputId": "96885073-66eb-4a75-ba94-36ea2c883b7a"
      },
      "outputs": [
        {
          "data": {
            "text/plain": [
              "<seaborn.axisgrid.JointGrid at 0x14fc3121910>"
            ]
          },
          "execution_count": 33,
          "metadata": {},
          "output_type": "execute_result"
        },
        {
          "data": {
            "image/png": "[encoded data removed]",
            "text/plain": [
              "<Figure size 600x600 with 3 Axes>"
            ]
          },
          "metadata": {},
          "output_type": "display_data"
        }
      ],
      "source": [
        "#jointplot is used for bivariate data analysis\n",
        "sns.jointplot(x='Rating',y='Total_thumbsup',data=data)"
      ]
    },
    {
      "cell_type": "code",
      "execution_count": null,
      "id": "51750d24",
      "metadata": {
        "id": "51750d24",
        "outputId": "5d2d7bec-c61e-412f-fa9d-7511092c15ab"
      },
      "outputs": [
        {
          "data": {
            "text/plain": [
              "<Axes: xlabel='Rating', ylabel='Total_thumbsup'>"
            ]
          },
          "execution_count": 5,
          "metadata": {},
          "output_type": "execute_result"
        },
        {
          "data": {
            "image/png": "[encoded data removed]",
            "text/plain": [
              "<Figure size 640x480 with 1 Axes>"
            ]
          },
          "metadata": {},
          "output_type": "display_data"
        }
      ],
      "source": [
        "sns.histplot(x='Rating',y='Total_thumbsup',data=data)"
      ]
    },
    {
      "cell_type": "code",
      "execution_count": null,
      "id": "601e21f7",
      "metadata": {
        "id": "601e21f7",
        "outputId": "79383888-b23b-42b5-e92f-5be0862843e5"
      },
      "outputs": [
        {
          "data": {
            "text/plain": [
              "<Axes: xlabel='Rating', ylabel='Count'>"
            ]
          },
          "execution_count": 6,
          "metadata": {},
          "output_type": "execute_result"
        },
        {
          "data": {
            "image/png": "[encoded data removed]",
            "text/plain": [
              "<Figure size 640x480 with 1 Axes>"
            ]
          },
          "metadata": {},
          "output_type": "display_data"
        }
      ],
      "source": [
        "sns.histplot(data['Rating'])"
      ]
    },
    {
      "cell_type": "code",
      "execution_count": null,
      "id": "e60c3698",
      "metadata": {
        "id": "e60c3698"
      },
      "outputs": [],
      "source": []
    }
  ],
  "metadata": {
    "kernelspec": {
      "display_name": "Python 3 (ipykernel)",
      "language": "python",
      "name": "python3"
    },
    "language_info": {
      "codemirror_mode": {
        "name": "ipython",
        "version": 3
      },
      "file_extension": ".py",
      "mimetype": "text/x-python",
      "name": "python",
      "nbconvert_exporter": "python",
      "pygments_lexer": "ipython3",
      "version": "3.9.2"
    },
    "colab": {
      "provenance": []
    }
  },
  "nbformat": 4,
  "nbformat_minor": 5
}